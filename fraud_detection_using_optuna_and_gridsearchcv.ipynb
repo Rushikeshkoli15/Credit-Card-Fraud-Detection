{
  "cells": [
    {
      "cell_type": "markdown",
      "id": "d7eaa559",
      "metadata": {
        "papermill": {
          "duration": 0.017215,
          "end_time": "2024-04-02T14:02:49.125194",
          "exception": false,
          "start_time": "2024-04-02T14:02:49.107979",
          "status": "completed"
        },
        "tags": [],
        "id": "d7eaa559"
      },
      "source": [
        "<br>\n",
        "<h2 style = \"font-size:40px; font-family:Garamond ; font-weight : normal; background-color: #263D42; color :#FFFFFF   ; text-align: center; border-radius: 5px 5px; padding: 5px\"> Credit Card Fraud Detection Project</h2>\n",
        "<br>"
      ]
    },
    {
      "cell_type": "code",
      "source": [
        "from google.colab import drive\n",
        "drive.mount('/content/drive')"
      ],
      "metadata": {
        "colab": {
          "base_uri": "https://localhost:8080/"
        },
        "id": "Devc6ohfRTkI",
        "outputId": "f89ec6b7-eba9-4cf8-b671-83bde23e4d17"
      },
      "id": "Devc6ohfRTkI",
      "execution_count": 1,
      "outputs": [
        {
          "output_type": "stream",
          "name": "stdout",
          "text": [
            "Mounted at /content/drive\n"
          ]
        }
      ]
    },
    {
      "cell_type": "markdown",
      "id": "b81600ba",
      "metadata": {
        "papermill": {
          "duration": 0.017429,
          "end_time": "2024-04-02T14:02:49.159384",
          "exception": false,
          "start_time": "2024-04-02T14:02:49.141955",
          "status": "completed"
        },
        "tags": [],
        "id": "b81600ba"
      },
      "source": [
        "<h2 style = \"font-size:35px; font-family:Garamond ; font-weight : normal; background-color: #263D42; color :#FFFFFF   ; text-align: center; border-radius: 5px 5px; padding: 5px\"> Table of Contents </h2>\n",
        "\n",
        "\n",
        "\n",
        "1. [Overview](#1.0)\n",
        "\n",
        "2. [Data Collection](#2.0)\n",
        "\n",
        "3. [Data Cleaning](#3.0)\n",
        "\n",
        "4. [EDA (Data Analysis and Preparation)](#4.0)\n",
        "\n",
        "5. [Data Scaling and Distributing](#5.0)\n",
        "\n",
        "6. [Modeling](#6.0)\n",
        "\n",
        "7. [Results](#7.0)\n",
        "\n",
        "8. [Conclusions](#8.0)"
      ]
    },
    {
      "cell_type": "markdown",
      "id": "bca0faec",
      "metadata": {
        "papermill": {
          "duration": 0.016406,
          "end_time": "2024-04-02T14:02:49.192302",
          "exception": false,
          "start_time": "2024-04-02T14:02:49.175896",
          "status": "completed"
        },
        "tags": [],
        "id": "bca0faec"
      },
      "source": [
        "<a id = '1.0'></a>\n",
        "<h2 style = \"font-size:35px; font-family:Garamond ; font-weight : normal; background-color: #263D42; color :#FFFFFF   ; text-align: center; border-radius: 5px 5px; padding: 5px\"> 1. Overview </h2>"
      ]
    },
    {
      "cell_type": "markdown",
      "id": "25dbf8eb",
      "metadata": {
        "jp-MarkdownHeadingCollapsed": true,
        "papermill": {
          "duration": 0.016375,
          "end_time": "2024-04-02T14:02:49.225510",
          "exception": false,
          "start_time": "2024-04-02T14:02:49.209135",
          "status": "completed"
        },
        "tags": [],
        "id": "25dbf8eb"
      },
      "source": [
        "### Problem Statement :\n",
        "Credit card fraud is a form of **identity theft** that involves an unauthorized taking of another’s credit card information for the purpose of charging purchases to the account or removing funds from it. With the proliferation of e-commerce and the surge in OTT platforms amidst the Coronavirus Pandemic has led to a **significant increase** in credit card usage, alongside other payment methods.\n",
        "\n",
        "However, credit card fraud has experienced a **notable increase** in incidents, indicating the binary essence of these occurrences. According to the reference provided, in addition to the relentless surge in fraud cases over recent years, global losses attributed to credit card fraud are projected to exceed **$43 billion by 2026**.\n",
        "\n",
        "Consequently, addressing this problem has become imperative, leading to the emergence of numerous startups in the industry. Developing automated models utilizing **AI and Machine Learning** is now **crucial** in combating this growing challenge.\n",
        "\n",
        "### Objective :\n",
        "- Address class imbalance in the dataset and accurately classify credit card transactions as **fraudulent** or **genuine**.\n",
        "- Employ two distinct Machine Learning hyperparameter tuning techniques, **Optuna** and **GridSearchCV**, utilizing similar hyperparameters. This approach aims to optimize the selected models and facilitate a comparative analysis of their efficacy."
      ]
    },
    {
      "cell_type": "markdown",
      "id": "297d81ea",
      "metadata": {
        "papermill": {
          "duration": 0.016416,
          "end_time": "2024-04-02T14:02:49.258538",
          "exception": false,
          "start_time": "2024-04-02T14:02:49.242122",
          "status": "completed"
        },
        "tags": [],
        "id": "297d81ea"
      },
      "source": [
        "### Attribute Information :\n",
        "\n",
        "- **V1 - V28** : Principal components derived from PCA, represented numerically in this dataset.\n",
        "\n",
        "- **Time** : Seconds elapsed between each transaction, from the first and last transaction.\n",
        "\n",
        "- **Amount** : Transaction amount.\n",
        "\n",
        "- **Class**: Indicates whether the transaction is fraudulent or genuine, represented by values of 1 or 0 respectively."
      ]
    },
    {
      "cell_type": "markdown",
      "id": "a8550695",
      "metadata": {
        "papermill": {
          "duration": 0.016667,
          "end_time": "2024-04-02T14:02:49.292135",
          "exception": false,
          "start_time": "2024-04-02T14:02:49.275468",
          "status": "completed"
        },
        "tags": [],
        "id": "a8550695"
      },
      "source": [
        "<a id = '2.0'></a>\n",
        "<h2 style = \"font-size:35px; font-family:Garamond ; font-weight : normal; background-color: #263D42; color :#FFFFFF   ; text-align: center; border-radius: 5px 5px; padding: 5px\"> 2. Data Collection</h2>"
      ]
    },
    {
      "cell_type": "code",
      "execution_count": null,
      "id": "0160169e",
      "metadata": {
        "execution": {
          "iopub.execute_input": "2024-04-02T14:02:49.328374Z",
          "iopub.status.busy": "2024-04-02T14:02:49.327516Z",
          "iopub.status.idle": "2024-04-02T14:02:51.244036Z",
          "shell.execute_reply": "2024-04-02T14:02:51.243288Z"
        },
        "papermill": {
          "duration": 1.937723,
          "end_time": "2024-04-02T14:02:51.246412",
          "exception": false,
          "start_time": "2024-04-02T14:02:49.308689",
          "status": "completed"
        },
        "tags": [],
        "id": "0160169e"
      },
      "outputs": [],
      "source": [
        "# Data manipulation libraries\n",
        "import pandas as pd\n",
        "import numpy as np\n",
        "\n",
        "# Data visualization libraries\n",
        "import matplotlib.pyplot as plt\n",
        "import seaborn as sns\n",
        "\n",
        "# Additional settings\n",
        "pd.options.display.max_columns = None\n",
        "pd.options.display.float_format = '{:.7f}'.format\n",
        "\n",
        "# suppress display of warnings\n",
        "import warnings\n",
        "warnings.filterwarnings('ignore')"
      ]
    },
    {
      "cell_type": "code",
      "execution_count": null,
      "id": "c0c39890",
      "metadata": {
        "execution": {
          "iopub.execute_input": "2024-04-02T14:02:51.281541Z",
          "iopub.status.busy": "2024-04-02T14:02:51.281154Z",
          "iopub.status.idle": "2024-04-02T14:02:54.716926Z",
          "shell.execute_reply": "2024-04-02T14:02:54.716144Z"
        },
        "papermill": {
          "duration": 3.455654,
          "end_time": "2024-04-02T14:02:54.719172",
          "exception": false,
          "start_time": "2024-04-02T14:02:51.263518",
          "status": "completed"
        },
        "scrolled": true,
        "tags": [],
        "id": "c0c39890"
      },
      "outputs": [],
      "source": [
        "# Reading creditcard.csv data\n",
        "df = pd.read_csv('/content/drive/MyDrive/creditcard.csv')"
      ]
    },
    {
      "cell_type": "code",
      "execution_count": null,
      "id": "73e98ff0",
      "metadata": {
        "execution": {
          "iopub.execute_input": "2024-04-02T14:02:54.755268Z",
          "iopub.status.busy": "2024-04-02T14:02:54.754927Z",
          "iopub.status.idle": "2024-04-02T14:02:54.780896Z",
          "shell.execute_reply": "2024-04-02T14:02:54.779927Z"
        },
        "papermill": {
          "duration": 0.046261,
          "end_time": "2024-04-02T14:02:54.783135",
          "exception": false,
          "start_time": "2024-04-02T14:02:54.736874",
          "status": "completed"
        },
        "tags": [],
        "id": "73e98ff0",
        "outputId": "68c8c72e-dd5d-4801-8843-91be467995d5"
      },
      "outputs": [
        {
          "data": {
            "text/html": [
              "<div>\n",
              "<style scoped>\n",
              "    .dataframe tbody tr th:only-of-type {\n",
              "        vertical-align: middle;\n",
              "    }\n",
              "\n",
              "    .dataframe tbody tr th {\n",
              "        vertical-align: top;\n",
              "    }\n",
              "\n",
              "    .dataframe thead th {\n",
              "        text-align: right;\n",
              "    }\n",
              "</style>\n",
              "<table border=\"1\" class=\"dataframe\">\n",
              "  <thead>\n",
              "    <tr style=\"text-align: right;\">\n",
              "      <th></th>\n",
              "      <th>Time</th>\n",
              "      <th>V1</th>\n",
              "      <th>V2</th>\n",
              "      <th>V3</th>\n",
              "      <th>V4</th>\n",
              "      <th>V5</th>\n",
              "      <th>V6</th>\n",
              "      <th>V7</th>\n",
              "      <th>V8</th>\n",
              "      <th>V9</th>\n",
              "      <th>V10</th>\n",
              "      <th>V11</th>\n",
              "      <th>V12</th>\n",
              "      <th>V13</th>\n",
              "      <th>V14</th>\n",
              "      <th>V15</th>\n",
              "      <th>V16</th>\n",
              "      <th>V17</th>\n",
              "      <th>V18</th>\n",
              "      <th>V19</th>\n",
              "      <th>V20</th>\n",
              "      <th>V21</th>\n",
              "      <th>V22</th>\n",
              "      <th>V23</th>\n",
              "      <th>V24</th>\n",
              "      <th>V25</th>\n",
              "      <th>V26</th>\n",
              "      <th>V27</th>\n",
              "      <th>V28</th>\n",
              "      <th>Amount</th>\n",
              "      <th>Class</th>\n",
              "    </tr>\n",
              "  </thead>\n",
              "  <tbody>\n",
              "    <tr>\n",
              "      <th>0</th>\n",
              "      <td>0.0000000</td>\n",
              "      <td>-1.3598071</td>\n",
              "      <td>-0.0727812</td>\n",
              "      <td>2.5363467</td>\n",
              "      <td>1.3781552</td>\n",
              "      <td>-0.3383208</td>\n",
              "      <td>0.4623878</td>\n",
              "      <td>0.2395986</td>\n",
              "      <td>0.0986979</td>\n",
              "      <td>0.3637870</td>\n",
              "      <td>0.0907942</td>\n",
              "      <td>-0.5515995</td>\n",
              "      <td>-0.6178009</td>\n",
              "      <td>-0.9913898</td>\n",
              "      <td>-0.3111694</td>\n",
              "      <td>1.4681770</td>\n",
              "      <td>-0.4704005</td>\n",
              "      <td>0.2079712</td>\n",
              "      <td>0.0257906</td>\n",
              "      <td>0.4039930</td>\n",
              "      <td>0.2514121</td>\n",
              "      <td>-0.0183068</td>\n",
              "      <td>0.2778376</td>\n",
              "      <td>-0.1104739</td>\n",
              "      <td>0.0669281</td>\n",
              "      <td>0.1285394</td>\n",
              "      <td>-0.1891148</td>\n",
              "      <td>0.1335584</td>\n",
              "      <td>-0.0210531</td>\n",
              "      <td>149.6200000</td>\n",
              "      <td>0</td>\n",
              "    </tr>\n",
              "    <tr>\n",
              "      <th>1</th>\n",
              "      <td>0.0000000</td>\n",
              "      <td>1.1918571</td>\n",
              "      <td>0.2661507</td>\n",
              "      <td>0.1664801</td>\n",
              "      <td>0.4481541</td>\n",
              "      <td>0.0600176</td>\n",
              "      <td>-0.0823608</td>\n",
              "      <td>-0.0788030</td>\n",
              "      <td>0.0851017</td>\n",
              "      <td>-0.2554251</td>\n",
              "      <td>-0.1669744</td>\n",
              "      <td>1.6127267</td>\n",
              "      <td>1.0652353</td>\n",
              "      <td>0.4890950</td>\n",
              "      <td>-0.1437723</td>\n",
              "      <td>0.6355581</td>\n",
              "      <td>0.4639170</td>\n",
              "      <td>-0.1148047</td>\n",
              "      <td>-0.1833613</td>\n",
              "      <td>-0.1457830</td>\n",
              "      <td>-0.0690831</td>\n",
              "      <td>-0.2257752</td>\n",
              "      <td>-0.6386720</td>\n",
              "      <td>0.1012880</td>\n",
              "      <td>-0.3398465</td>\n",
              "      <td>0.1671704</td>\n",
              "      <td>0.1258945</td>\n",
              "      <td>-0.0089831</td>\n",
              "      <td>0.0147242</td>\n",
              "      <td>2.6900000</td>\n",
              "      <td>0</td>\n",
              "    </tr>\n",
              "    <tr>\n",
              "      <th>2</th>\n",
              "      <td>1.0000000</td>\n",
              "      <td>-1.3583541</td>\n",
              "      <td>-1.3401631</td>\n",
              "      <td>1.7732093</td>\n",
              "      <td>0.3797796</td>\n",
              "      <td>-0.5031981</td>\n",
              "      <td>1.8004994</td>\n",
              "      <td>0.7914610</td>\n",
              "      <td>0.2476758</td>\n",
              "      <td>-1.5146543</td>\n",
              "      <td>0.2076429</td>\n",
              "      <td>0.6245015</td>\n",
              "      <td>0.0660837</td>\n",
              "      <td>0.7172927</td>\n",
              "      <td>-0.1659459</td>\n",
              "      <td>2.3458649</td>\n",
              "      <td>-2.8900832</td>\n",
              "      <td>1.1099694</td>\n",
              "      <td>-0.1213593</td>\n",
              "      <td>-2.2618571</td>\n",
              "      <td>0.5249797</td>\n",
              "      <td>0.2479982</td>\n",
              "      <td>0.7716794</td>\n",
              "      <td>0.9094123</td>\n",
              "      <td>-0.6892810</td>\n",
              "      <td>-0.3276418</td>\n",
              "      <td>-0.1390966</td>\n",
              "      <td>-0.0553528</td>\n",
              "      <td>-0.0597518</td>\n",
              "      <td>378.6600000</td>\n",
              "      <td>0</td>\n",
              "    </tr>\n",
              "    <tr>\n",
              "      <th>3</th>\n",
              "      <td>1.0000000</td>\n",
              "      <td>-0.9662717</td>\n",
              "      <td>-0.1852260</td>\n",
              "      <td>1.7929933</td>\n",
              "      <td>-0.8632913</td>\n",
              "      <td>-0.0103089</td>\n",
              "      <td>1.2472032</td>\n",
              "      <td>0.2376089</td>\n",
              "      <td>0.3774359</td>\n",
              "      <td>-1.3870241</td>\n",
              "      <td>-0.0549519</td>\n",
              "      <td>-0.2264873</td>\n",
              "      <td>0.1782282</td>\n",
              "      <td>0.5077569</td>\n",
              "      <td>-0.2879237</td>\n",
              "      <td>-0.6314181</td>\n",
              "      <td>-1.0596472</td>\n",
              "      <td>-0.6840928</td>\n",
              "      <td>1.9657750</td>\n",
              "      <td>-1.2326220</td>\n",
              "      <td>-0.2080378</td>\n",
              "      <td>-0.1083005</td>\n",
              "      <td>0.0052736</td>\n",
              "      <td>-0.1903205</td>\n",
              "      <td>-1.1755753</td>\n",
              "      <td>0.6473760</td>\n",
              "      <td>-0.2219288</td>\n",
              "      <td>0.0627228</td>\n",
              "      <td>0.0614576</td>\n",
              "      <td>123.5000000</td>\n",
              "      <td>0</td>\n",
              "    </tr>\n",
              "    <tr>\n",
              "      <th>4</th>\n",
              "      <td>2.0000000</td>\n",
              "      <td>-1.1582331</td>\n",
              "      <td>0.8777368</td>\n",
              "      <td>1.5487178</td>\n",
              "      <td>0.4030339</td>\n",
              "      <td>-0.4071934</td>\n",
              "      <td>0.0959215</td>\n",
              "      <td>0.5929407</td>\n",
              "      <td>-0.2705327</td>\n",
              "      <td>0.8177393</td>\n",
              "      <td>0.7530744</td>\n",
              "      <td>-0.8228429</td>\n",
              "      <td>0.5381956</td>\n",
              "      <td>1.3458516</td>\n",
              "      <td>-1.1196698</td>\n",
              "      <td>0.1751211</td>\n",
              "      <td>-0.4514492</td>\n",
              "      <td>-0.2370332</td>\n",
              "      <td>-0.0381948</td>\n",
              "      <td>0.8034869</td>\n",
              "      <td>0.4085424</td>\n",
              "      <td>-0.0094307</td>\n",
              "      <td>0.7982785</td>\n",
              "      <td>-0.1374581</td>\n",
              "      <td>0.1412670</td>\n",
              "      <td>-0.2060096</td>\n",
              "      <td>0.5022922</td>\n",
              "      <td>0.2194222</td>\n",
              "      <td>0.2151531</td>\n",
              "      <td>69.9900000</td>\n",
              "      <td>0</td>\n",
              "    </tr>\n",
              "  </tbody>\n",
              "</table>\n",
              "</div>"
            ],
            "text/plain": [
              "       Time         V1         V2        V3         V4         V5         V6  \\\n",
              "0 0.0000000 -1.3598071 -0.0727812 2.5363467  1.3781552 -0.3383208  0.4623878   \n",
              "1 0.0000000  1.1918571  0.2661507 0.1664801  0.4481541  0.0600176 -0.0823608   \n",
              "2 1.0000000 -1.3583541 -1.3401631 1.7732093  0.3797796 -0.5031981  1.8004994   \n",
              "3 1.0000000 -0.9662717 -0.1852260 1.7929933 -0.8632913 -0.0103089  1.2472032   \n",
              "4 2.0000000 -1.1582331  0.8777368 1.5487178  0.4030339 -0.4071934  0.0959215   \n",
              "\n",
              "          V7         V8         V9        V10        V11        V12  \\\n",
              "0  0.2395986  0.0986979  0.3637870  0.0907942 -0.5515995 -0.6178009   \n",
              "1 -0.0788030  0.0851017 -0.2554251 -0.1669744  1.6127267  1.0652353   \n",
              "2  0.7914610  0.2476758 -1.5146543  0.2076429  0.6245015  0.0660837   \n",
              "3  0.2376089  0.3774359 -1.3870241 -0.0549519 -0.2264873  0.1782282   \n",
              "4  0.5929407 -0.2705327  0.8177393  0.7530744 -0.8228429  0.5381956   \n",
              "\n",
              "         V13        V14        V15        V16        V17        V18  \\\n",
              "0 -0.9913898 -0.3111694  1.4681770 -0.4704005  0.2079712  0.0257906   \n",
              "1  0.4890950 -0.1437723  0.6355581  0.4639170 -0.1148047 -0.1833613   \n",
              "2  0.7172927 -0.1659459  2.3458649 -2.8900832  1.1099694 -0.1213593   \n",
              "3  0.5077569 -0.2879237 -0.6314181 -1.0596472 -0.6840928  1.9657750   \n",
              "4  1.3458516 -1.1196698  0.1751211 -0.4514492 -0.2370332 -0.0381948   \n",
              "\n",
              "         V19        V20        V21        V22        V23        V24  \\\n",
              "0  0.4039930  0.2514121 -0.0183068  0.2778376 -0.1104739  0.0669281   \n",
              "1 -0.1457830 -0.0690831 -0.2257752 -0.6386720  0.1012880 -0.3398465   \n",
              "2 -2.2618571  0.5249797  0.2479982  0.7716794  0.9094123 -0.6892810   \n",
              "3 -1.2326220 -0.2080378 -0.1083005  0.0052736 -0.1903205 -1.1755753   \n",
              "4  0.8034869  0.4085424 -0.0094307  0.7982785 -0.1374581  0.1412670   \n",
              "\n",
              "         V25        V26        V27        V28      Amount  Class  \n",
              "0  0.1285394 -0.1891148  0.1335584 -0.0210531 149.6200000      0  \n",
              "1  0.1671704  0.1258945 -0.0089831  0.0147242   2.6900000      0  \n",
              "2 -0.3276418 -0.1390966 -0.0553528 -0.0597518 378.6600000      0  \n",
              "3  0.6473760 -0.2219288  0.0627228  0.0614576 123.5000000      0  \n",
              "4 -0.2060096  0.5022922  0.2194222  0.2151531  69.9900000      0  "
            ]
          },
          "execution_count": 3,
          "metadata": {},
          "output_type": "execute_result"
        }
      ],
      "source": [
        "# Get the top 5 rows\n",
        "df.head()"
      ]
    },
    {
      "cell_type": "code",
      "execution_count": null,
      "id": "823efc91",
      "metadata": {
        "execution": {
          "iopub.execute_input": "2024-04-02T14:02:54.819922Z",
          "iopub.status.busy": "2024-04-02T14:02:54.819630Z",
          "iopub.status.idle": "2024-04-02T14:02:54.824897Z",
          "shell.execute_reply": "2024-04-02T14:02:54.824112Z"
        },
        "papermill": {
          "duration": 0.025479,
          "end_time": "2024-04-02T14:02:54.826819",
          "exception": false,
          "start_time": "2024-04-02T14:02:54.801340",
          "status": "completed"
        },
        "tags": [],
        "id": "823efc91",
        "outputId": "76bba192-81f2-4d61-b208-b3818449a5ea"
      },
      "outputs": [
        {
          "data": {
            "text/plain": [
              "(284807, 31)"
            ]
          },
          "execution_count": 4,
          "metadata": {},
          "output_type": "execute_result"
        }
      ],
      "source": [
        "# Get the shape of the Data frame\n",
        "df.shape"
      ]
    },
    {
      "cell_type": "code",
      "execution_count": null,
      "id": "55e2c447",
      "metadata": {
        "execution": {
          "iopub.execute_input": "2024-04-02T14:02:54.862878Z",
          "iopub.status.busy": "2024-04-02T14:02:54.862632Z",
          "iopub.status.idle": "2024-04-02T14:02:54.900291Z",
          "shell.execute_reply": "2024-04-02T14:02:54.899246Z"
        },
        "papermill": {
          "duration": 0.05846,
          "end_time": "2024-04-02T14:02:54.902540",
          "exception": false,
          "start_time": "2024-04-02T14:02:54.844080",
          "status": "completed"
        },
        "scrolled": true,
        "tags": [],
        "id": "55e2c447",
        "outputId": "43c1a333-416b-4453-e842-e0d3b902d411"
      },
      "outputs": [
        {
          "name": "stdout",
          "output_type": "stream",
          "text": [
            "<class 'pandas.core.frame.DataFrame'>\n",
            "RangeIndex: 284807 entries, 0 to 284806\n",
            "Data columns (total 31 columns):\n",
            " #   Column  Non-Null Count   Dtype  \n",
            "---  ------  --------------   -----  \n",
            " 0   Time    284807 non-null  float64\n",
            " 1   V1      284807 non-null  float64\n",
            " 2   V2      284807 non-null  float64\n",
            " 3   V3      284807 non-null  float64\n",
            " 4   V4      284807 non-null  float64\n",
            " 5   V5      284807 non-null  float64\n",
            " 6   V6      284807 non-null  float64\n",
            " 7   V7      284807 non-null  float64\n",
            " 8   V8      284807 non-null  float64\n",
            " 9   V9      284807 non-null  float64\n",
            " 10  V10     284807 non-null  float64\n",
            " 11  V11     284807 non-null  float64\n",
            " 12  V12     284807 non-null  float64\n",
            " 13  V13     284807 non-null  float64\n",
            " 14  V14     284807 non-null  float64\n",
            " 15  V15     284807 non-null  float64\n",
            " 16  V16     284807 non-null  float64\n",
            " 17  V17     284807 non-null  float64\n",
            " 18  V18     284807 non-null  float64\n",
            " 19  V19     284807 non-null  float64\n",
            " 20  V20     284807 non-null  float64\n",
            " 21  V21     284807 non-null  float64\n",
            " 22  V22     284807 non-null  float64\n",
            " 23  V23     284807 non-null  float64\n",
            " 24  V24     284807 non-null  float64\n",
            " 25  V25     284807 non-null  float64\n",
            " 26  V26     284807 non-null  float64\n",
            " 27  V27     284807 non-null  float64\n",
            " 28  V28     284807 non-null  float64\n",
            " 29  Amount  284807 non-null  float64\n",
            " 30  Class   284807 non-null  int64  \n",
            "dtypes: float64(30), int64(1)\n",
            "memory usage: 67.4 MB\n"
          ]
        }
      ],
      "source": [
        "# Check Data frame info\n",
        "df.info()"
      ]
    },
    {
      "cell_type": "markdown",
      "id": "79a82c9e",
      "metadata": {
        "papermill": {
          "duration": 0.01777,
          "end_time": "2024-04-02T14:02:54.939579",
          "exception": false,
          "start_time": "2024-04-02T14:02:54.921809",
          "status": "completed"
        },
        "tags": [],
        "id": "79a82c9e"
      },
      "source": [
        "<a id = '3.0'></a>\n",
        "<h2 style = \"font-size:35px; font-family:Garamond ; font-weight : normal; background-color: #263D42; color :#FFFFFF   ; text-align: center; border-radius: 5px 5px; padding: 5px\"> 3. Data Cleaning </h2>"
      ]
    },
    {
      "cell_type": "code",
      "execution_count": null,
      "id": "b6bf03c2",
      "metadata": {
        "execution": {
          "iopub.execute_input": "2024-04-02T14:02:54.976263Z",
          "iopub.status.busy": "2024-04-02T14:02:54.975966Z",
          "iopub.status.idle": "2024-04-02T14:02:54.992688Z",
          "shell.execute_reply": "2024-04-02T14:02:54.991799Z"
        },
        "papermill": {
          "duration": 0.037362,
          "end_time": "2024-04-02T14:02:54.994683",
          "exception": false,
          "start_time": "2024-04-02T14:02:54.957321",
          "status": "completed"
        },
        "tags": [],
        "id": "b6bf03c2",
        "outputId": "e7e704c4-fb19-43b6-b21e-69ad4f9b922d"
      },
      "outputs": [
        {
          "data": {
            "text/plain": [
              "0"
            ]
          },
          "execution_count": 6,
          "metadata": {},
          "output_type": "execute_result"
        }
      ],
      "source": [
        "# Check for missing values values in a data frame\n",
        "df.isnull().sum().sum()"
      ]
    },
    {
      "cell_type": "code",
      "execution_count": null,
      "id": "e62b75af",
      "metadata": {
        "execution": {
          "iopub.execute_input": "2024-04-02T14:02:55.031957Z",
          "iopub.status.busy": "2024-04-02T14:02:55.031707Z",
          "iopub.status.idle": "2024-04-02T14:02:55.670691Z",
          "shell.execute_reply": "2024-04-02T14:02:55.669645Z"
        },
        "papermill": {
          "duration": 0.660279,
          "end_time": "2024-04-02T14:02:55.672898",
          "exception": false,
          "start_time": "2024-04-02T14:02:55.012619",
          "status": "completed"
        },
        "tags": [],
        "id": "e62b75af",
        "outputId": "7aabeed3-d2ca-4534-cd33-e98a222205b5"
      },
      "outputs": [
        {
          "data": {
            "text/plain": [
              "1081"
            ]
          },
          "execution_count": 7,
          "metadata": {},
          "output_type": "execute_result"
        }
      ],
      "source": [
        "# Check for duplicates in the data frame\n",
        "df.duplicated().sum().sum()"
      ]
    },
    {
      "cell_type": "code",
      "execution_count": null,
      "id": "a4586ecc",
      "metadata": {
        "execution": {
          "iopub.execute_input": "2024-04-02T14:02:55.711762Z",
          "iopub.status.busy": "2024-04-02T14:02:55.710944Z",
          "iopub.status.idle": "2024-04-02T14:02:56.851270Z",
          "shell.execute_reply": "2024-04-02T14:02:56.850380Z"
        },
        "papermill": {
          "duration": 1.161929,
          "end_time": "2024-04-02T14:02:56.853290",
          "exception": false,
          "start_time": "2024-04-02T14:02:55.691361",
          "status": "completed"
        },
        "tags": [],
        "id": "a4586ecc",
        "outputId": "6a8da6a5-17cc-4b12-af32-8e84b6abf3b2"
      },
      "outputs": [
        {
          "data": {
            "text/plain": [
              "0"
            ]
          },
          "execution_count": 8,
          "metadata": {},
          "output_type": "execute_result"
        }
      ],
      "source": [
        "# Delete duplicate rows\n",
        "df.drop_duplicates(inplace=True)\n",
        "\n",
        "# Recheck for duplicates in the data frame\n",
        "df.duplicated().sum().sum()"
      ]
    },
    {
      "cell_type": "markdown",
      "id": "730451f0",
      "metadata": {
        "papermill": {
          "duration": 0.018325,
          "end_time": "2024-04-02T14:02:56.890590",
          "exception": false,
          "start_time": "2024-04-02T14:02:56.872265",
          "status": "completed"
        },
        "tags": [],
        "id": "730451f0"
      },
      "source": [
        "<a id = '4.0'></a>\n",
        "<h2 style = \"font-size:35px; font-family:Garamond ; font-weight : normal; background-color: #263D42; color :#FFFFFF   ; text-align: center; border-radius: 5px 5px; padding: 5px\"> 4. EDA (Data Analysis and Preparation) </h2>"
      ]
    },
    {
      "cell_type": "code",
      "execution_count": null,
      "id": "f8f51044",
      "metadata": {
        "execution": {
          "iopub.execute_input": "2024-04-02T14:02:56.928749Z",
          "iopub.status.busy": "2024-04-02T14:02:56.928447Z",
          "iopub.status.idle": "2024-04-02T14:02:56.939838Z",
          "shell.execute_reply": "2024-04-02T14:02:56.938890Z"
        },
        "papermill": {
          "duration": 0.032701,
          "end_time": "2024-04-02T14:02:56.941810",
          "exception": false,
          "start_time": "2024-04-02T14:02:56.909109",
          "status": "completed"
        },
        "tags": [],
        "id": "f8f51044",
        "outputId": "a1b93c6c-e2af-4b33-c22b-821ea66eab06"
      },
      "outputs": [
        {
          "data": {
            "text/plain": [
              "Class\n",
              "0   0.9983329\n",
              "1   0.0016671\n",
              "Name: proportion, dtype: float64"
            ]
          },
          "execution_count": 9,
          "metadata": {},
          "output_type": "execute_result"
        }
      ],
      "source": [
        "# Check the Target variable class balance\n",
        "df['Class'].value_counts(normalize=True)"
      ]
    },
    {
      "cell_type": "markdown",
      "id": "8755a6c8",
      "metadata": {
        "papermill": {
          "duration": 0.018188,
          "end_time": "2024-04-02T14:02:56.978469",
          "exception": false,
          "start_time": "2024-04-02T14:02:56.960281",
          "status": "completed"
        },
        "tags": [],
        "id": "8755a6c8"
      },
      "source": [
        "**Note:** From the above output, it can be observed that there is a high class imbalance with the target variable \"Class\". Only a mere 0.17% of the variable consists of the value \"1\", indicating instances of \"Fraud\".\n",
        "<br>\n",
        "<br>"
      ]
    },
    {
      "cell_type": "code",
      "execution_count": null,
      "id": "7faf89ad",
      "metadata": {
        "execution": {
          "iopub.execute_input": "2024-04-02T14:02:57.016406Z",
          "iopub.status.busy": "2024-04-02T14:02:57.016109Z",
          "iopub.status.idle": "2024-04-02T14:02:57.364209Z",
          "shell.execute_reply": "2024-04-02T14:02:57.363315Z"
        },
        "papermill": {
          "duration": 0.369629,
          "end_time": "2024-04-02T14:02:57.366389",
          "exception": false,
          "start_time": "2024-04-02T14:02:56.996760",
          "status": "completed"
        },
        "tags": [],
        "id": "7faf89ad",
        "outputId": "658f4a70-ef19-468f-98f2-38414bb81fd7"
      },
      "outputs": [
        {
          "data": {
            "image/png": "[encoded data removed]",
            "text/plain": [
              "<Figure size 1000x400 with 1 Axes>"
            ]
          },
          "metadata": {},
          "output_type": "display_data"
        }
      ],
      "source": [
        "# Convert 'Time' to hours for better visualization\n",
        "df['TimeHours'] = df['Time'] / 3600\n",
        "\n",
        "# Plotting\n",
        "plt.figure(figsize=(10, 4))\n",
        "plt.plot(df['TimeHours'], df['Amount'], linewidth=2)\n",
        "plt.title('Transaction Amount over Time')\n",
        "plt.xlabel('Time (hours)')\n",
        "plt.ylabel('Amount')\n",
        "plt.grid(True)\n",
        "plt.show()"
      ]
    },
    {
      "cell_type": "code",
      "execution_count": null,
      "id": "327ce706",
      "metadata": {
        "execution": {
          "iopub.execute_input": "2024-04-02T14:02:57.408528Z",
          "iopub.status.busy": "2024-04-02T14:02:57.408209Z",
          "iopub.status.idle": "2024-04-02T14:02:57.414945Z",
          "shell.execute_reply": "2024-04-02T14:02:57.414087Z"
        },
        "papermill": {
          "duration": 0.029749,
          "end_time": "2024-04-02T14:02:57.417035",
          "exception": false,
          "start_time": "2024-04-02T14:02:57.387286",
          "status": "completed"
        },
        "tags": [],
        "id": "327ce706",
        "outputId": "ff67702d-d08b-4c2f-ad72-e1b08ef2c4de"
      },
      "outputs": [
        {
          "data": {
            "text/plain": [
              "284802   47.9961111\n",
              "284803   47.9963889\n",
              "284804   47.9966667\n",
              "284805   47.9966667\n",
              "284806   47.9977778\n",
              "Name: TimeHours, dtype: float64"
            ]
          },
          "execution_count": 11,
          "metadata": {},
          "output_type": "execute_result"
        }
      ],
      "source": [
        "# Get the bottom 5 rows\n",
        "df['TimeHours'].tail()"
      ]
    },
    {
      "cell_type": "markdown",
      "id": "8be648ae",
      "metadata": {
        "papermill": {
          "duration": 0.019296,
          "end_time": "2024-04-02T14:02:57.494495",
          "exception": false,
          "start_time": "2024-04-02T14:02:57.475199",
          "status": "completed"
        },
        "tags": [],
        "id": "8be648ae"
      },
      "source": [
        "**Note:** Based on the provided outputs, it's evident that the transactions data were collected over a period of approximately 48 hours\n",
        "<br><br>"
      ]
    },
    {
      "cell_type": "code",
      "execution_count": null,
      "id": "88fb052a",
      "metadata": {
        "execution": {
          "iopub.execute_input": "2024-04-02T14:02:57.536429Z",
          "iopub.status.busy": "2024-04-02T14:02:57.535712Z",
          "iopub.status.idle": "2024-04-02T14:02:58.435518Z",
          "shell.execute_reply": "2024-04-02T14:02:58.434508Z"
        },
        "papermill": {
          "duration": 0.923448,
          "end_time": "2024-04-02T14:02:58.437895",
          "exception": false,
          "start_time": "2024-04-02T14:02:57.514447",
          "status": "completed"
        },
        "tags": [],
        "id": "88fb052a",
        "outputId": "3b3f6c8b-3580-4420-e0b3-926cfe357496"
      },
      "outputs": [
        {
          "data": {
            "image/png": "[encoded data removed]",
            "text/plain": [
              "<Figure size 1000x600 with 4 Axes>"
            ]
          },
          "metadata": {},
          "output_type": "display_data"
        }
      ],
      "source": [
        "# Calculate correlation matrix\n",
        "correlation_matrix = df.corrwith(df['Class']).sort_values(ascending=False)\n",
        "\n",
        "# Split correlation matrix into two halves\n",
        "half_length = len(correlation_matrix) // 2\n",
        "first_half = correlation_matrix[:half_length]\n",
        "second_half = correlation_matrix[half_length:]\n",
        "\n",
        "# Set up the plots side by side\n",
        "fig, axs = plt.subplots(1, 2, figsize=(10, 6))\n",
        "\n",
        "# Plot the heatmap for the first half\n",
        "heatmap1 = sns.heatmap(first_half.to_frame(), vmin=-1, vmax=1, annot=True, cmap='vlag', ax=axs[0])\n",
        "heatmap1.set_title('Correlation of Class', fontdict={'fontsize': 16}, pad=12)\n",
        "\n",
        "# Plot the heatmap for the second half\n",
        "heatmap2 = sns.heatmap(second_half.to_frame(), vmin=-1, vmax=1, annot=True, cmap='vlag', ax=axs[1])\n",
        "\n",
        "# Adjust layout\n",
        "plt.tight_layout()\n",
        "plt.show()"
      ]
    },
    {
      "cell_type": "markdown",
      "id": "e91f4cdf",
      "metadata": {
        "papermill": {
          "duration": 0.020395,
          "end_time": "2024-04-02T14:02:58.480075",
          "exception": false,
          "start_time": "2024-04-02T14:02:58.459680",
          "status": "completed"
        },
        "tags": [],
        "id": "e91f4cdf"
      },
      "source": [
        "**Note**: In pursuit of optimizing the model, features with correlation values within the range of **[-0.1, 0.1]** will be excluded during feature selection.\n",
        "<br><br>"
      ]
    },
    {
      "cell_type": "code",
      "execution_count": null,
      "id": "d624c6eb",
      "metadata": {
        "execution": {
          "iopub.execute_input": "2024-04-02T14:02:58.523226Z",
          "iopub.status.busy": "2024-04-02T14:02:58.522912Z",
          "iopub.status.idle": "2024-04-02T14:02:58.553590Z",
          "shell.execute_reply": "2024-04-02T14:02:58.552633Z"
        },
        "papermill": {
          "duration": 0.05459,
          "end_time": "2024-04-02T14:02:58.555723",
          "exception": false,
          "start_time": "2024-04-02T14:02:58.501133",
          "status": "completed"
        },
        "tags": [],
        "id": "d624c6eb",
        "outputId": "5317e234-86f0-4d4c-b225-18d4301e2cb2"
      },
      "outputs": [
        {
          "data": {
            "text/html": [
              "<div>\n",
              "<style scoped>\n",
              "    .dataframe tbody tr th:only-of-type {\n",
              "        vertical-align: middle;\n",
              "    }\n",
              "\n",
              "    .dataframe tbody tr th {\n",
              "        vertical-align: top;\n",
              "    }\n",
              "\n",
              "    .dataframe thead th {\n",
              "        text-align: right;\n",
              "    }\n",
              "</style>\n",
              "<table border=\"1\" class=\"dataframe\">\n",
              "  <thead>\n",
              "    <tr style=\"text-align: right;\">\n",
              "      <th></th>\n",
              "      <th>V3</th>\n",
              "      <th>V4</th>\n",
              "      <th>V7</th>\n",
              "      <th>V10</th>\n",
              "      <th>V11</th>\n",
              "      <th>V12</th>\n",
              "      <th>V14</th>\n",
              "      <th>V16</th>\n",
              "      <th>V17</th>\n",
              "      <th>Class</th>\n",
              "    </tr>\n",
              "  </thead>\n",
              "  <tbody>\n",
              "    <tr>\n",
              "      <th>0</th>\n",
              "      <td>2.5363467</td>\n",
              "      <td>1.3781552</td>\n",
              "      <td>0.2395986</td>\n",
              "      <td>0.0907942</td>\n",
              "      <td>-0.5515995</td>\n",
              "      <td>-0.6178009</td>\n",
              "      <td>-0.3111694</td>\n",
              "      <td>-0.4704005</td>\n",
              "      <td>0.2079712</td>\n",
              "      <td>0</td>\n",
              "    </tr>\n",
              "    <tr>\n",
              "      <th>1</th>\n",
              "      <td>0.1664801</td>\n",
              "      <td>0.4481541</td>\n",
              "      <td>-0.0788030</td>\n",
              "      <td>-0.1669744</td>\n",
              "      <td>1.6127267</td>\n",
              "      <td>1.0652353</td>\n",
              "      <td>-0.1437723</td>\n",
              "      <td>0.4639170</td>\n",
              "      <td>-0.1148047</td>\n",
              "      <td>0</td>\n",
              "    </tr>\n",
              "    <tr>\n",
              "      <th>2</th>\n",
              "      <td>1.7732093</td>\n",
              "      <td>0.3797796</td>\n",
              "      <td>0.7914610</td>\n",
              "      <td>0.2076429</td>\n",
              "      <td>0.6245015</td>\n",
              "      <td>0.0660837</td>\n",
              "      <td>-0.1659459</td>\n",
              "      <td>-2.8900832</td>\n",
              "      <td>1.1099694</td>\n",
              "      <td>0</td>\n",
              "    </tr>\n",
              "    <tr>\n",
              "      <th>3</th>\n",
              "      <td>1.7929933</td>\n",
              "      <td>-0.8632913</td>\n",
              "      <td>0.2376089</td>\n",
              "      <td>-0.0549519</td>\n",
              "      <td>-0.2264873</td>\n",
              "      <td>0.1782282</td>\n",
              "      <td>-0.2879237</td>\n",
              "      <td>-1.0596472</td>\n",
              "      <td>-0.6840928</td>\n",
              "      <td>0</td>\n",
              "    </tr>\n",
              "    <tr>\n",
              "      <th>4</th>\n",
              "      <td>1.5487178</td>\n",
              "      <td>0.4030339</td>\n",
              "      <td>0.5929407</td>\n",
              "      <td>0.7530744</td>\n",
              "      <td>-0.8228429</td>\n",
              "      <td>0.5381956</td>\n",
              "      <td>-1.1196698</td>\n",
              "      <td>-0.4514492</td>\n",
              "      <td>-0.2370332</td>\n",
              "      <td>0</td>\n",
              "    </tr>\n",
              "  </tbody>\n",
              "</table>\n",
              "</div>"
            ],
            "text/plain": [
              "         V3         V4         V7        V10        V11        V12        V14  \\\n",
              "0 2.5363467  1.3781552  0.2395986  0.0907942 -0.5515995 -0.6178009 -0.3111694   \n",
              "1 0.1664801  0.4481541 -0.0788030 -0.1669744  1.6127267  1.0652353 -0.1437723   \n",
              "2 1.7732093  0.3797796  0.7914610  0.2076429  0.6245015  0.0660837 -0.1659459   \n",
              "3 1.7929933 -0.8632913  0.2376089 -0.0549519 -0.2264873  0.1782282 -0.2879237   \n",
              "4 1.5487178  0.4030339  0.5929407  0.7530744 -0.8228429  0.5381956 -1.1196698   \n",
              "\n",
              "         V16        V17  Class  \n",
              "0 -0.4704005  0.2079712      0  \n",
              "1  0.4639170 -0.1148047      0  \n",
              "2 -2.8900832  1.1099694      0  \n",
              "3 -1.0596472 -0.6840928      0  \n",
              "4 -0.4514492 -0.2370332      0  "
            ]
          },
          "execution_count": 13,
          "metadata": {},
          "output_type": "execute_result"
        }
      ],
      "source": [
        "# Feature Selection\n",
        "df_subset = df[['V3','V4','V7','V10','V11','V12','V14','V16','V17','Class']].copy(deep = True)\n",
        "df_subset.head()"
      ]
    },
    {
      "cell_type": "code",
      "execution_count": null,
      "id": "6824dee7",
      "metadata": {
        "execution": {
          "iopub.execute_input": "2024-04-02T14:02:58.598773Z",
          "iopub.status.busy": "2024-04-02T14:02:58.598475Z",
          "iopub.status.idle": "2024-04-02T14:03:10.807496Z",
          "shell.execute_reply": "2024-04-02T14:03:10.806598Z"
        },
        "papermill": {
          "duration": 12.232786,
          "end_time": "2024-04-02T14:03:10.809663",
          "exception": false,
          "start_time": "2024-04-02T14:02:58.576877",
          "status": "completed"
        },
        "tags": [],
        "id": "6824dee7",
        "outputId": "ff3a0ebd-9c6d-4a59-f735-cf64c7bda0fd"
      },
      "outputs": [
        {
          "data": {
            "image/png": "[encoded data removed]",
            "text/plain": [
              "<Figure size 1000x1000 with 9 Axes>"
            ]
          },
          "metadata": {},
          "output_type": "display_data"
        }
      ],
      "source": [
        "# Define the number of rows and columns for subplots\n",
        "num_rows, num_cols = 3, 3\n",
        "\n",
        "# Create subplots with the specified number of rows and columns\n",
        "f, axes = plt.subplots(nrows=num_rows, ncols=num_cols, figsize=(10, 10))\n",
        "\n",
        "# Calculate and plot distribution of the variables\n",
        "for index, column in enumerate(df_subset.columns[:-1]):  # Exclude the last column ('Class')\n",
        "    i, j = (index // num_cols, index % num_cols)\n",
        "    g = sns.distplot(df_subset[column], ax=axes[i, j])\n",
        "    if g.legend_:\n",
        "        g.legend_.remove()  # Remove the legend if present\n",
        "\n",
        "    # Adjust font size of labels and ticks\n",
        "    axes[i, j].set_xlabel(column, fontsize='small')\n",
        "    axes[i, j].set_ylabel('Density', fontsize='small')\n",
        "    axes[i, j].tick_params(axis='both', which='major', labelsize='small')\n",
        "\n",
        "plt.tight_layout()\n",
        "plt.show()"
      ]
    },
    {
      "cell_type": "markdown",
      "id": "a179866f",
      "metadata": {
        "papermill": {
          "duration": 0.021587,
          "end_time": "2024-04-02T14:03:10.853498",
          "exception": false,
          "start_time": "2024-04-02T14:03:10.831911",
          "status": "completed"
        },
        "tags": [],
        "id": "a179866f"
      },
      "source": [
        "**Note**: Based on the generated plots, all independent variables exhibit a *Normal Distribution* pattern.\n",
        "<br><br>"
      ]
    },
    {
      "cell_type": "markdown",
      "id": "348365a2",
      "metadata": {
        "papermill": {
          "duration": 0.021598,
          "end_time": "2024-04-02T14:03:10.897004",
          "exception": false,
          "start_time": "2024-04-02T14:03:10.875406",
          "status": "completed"
        },
        "tags": [],
        "id": "348365a2"
      },
      "source": [
        "<a id = '5.0'></a>\n",
        "<h2 style = \"font-size:35px; font-family:Garamond ; font-weight : normal; background-color: #263D42; color :#FFFFFF   ; text-align: center; border-radius: 5px 5px; padding: 5px\"> 5. Data Scaling and Distributing </h2>"
      ]
    },
    {
      "cell_type": "code",
      "execution_count": null,
      "id": "cac73bc3",
      "metadata": {
        "execution": {
          "iopub.execute_input": "2024-04-02T14:03:10.942015Z",
          "iopub.status.busy": "2024-04-02T14:03:10.941688Z",
          "iopub.status.idle": "2024-04-02T14:03:11.478054Z",
          "shell.execute_reply": "2024-04-02T14:03:11.477262Z"
        },
        "papermill": {
          "duration": 0.561567,
          "end_time": "2024-04-02T14:03:11.480326",
          "exception": false,
          "start_time": "2024-04-02T14:03:10.918759",
          "status": "completed"
        },
        "tags": [],
        "id": "cac73bc3"
      },
      "outputs": [],
      "source": [
        "# Data Scaling and Manipulation libraries\n",
        "from imblearn.over_sampling import SMOTE\n",
        "from imblearn.under_sampling import RandomUnderSampler\n",
        "from imblearn.pipeline import Pipeline"
      ]
    },
    {
      "cell_type": "markdown",
      "id": "78405f9f",
      "metadata": {
        "papermill": {
          "duration": 0.022277,
          "end_time": "2024-04-02T14:03:11.525454",
          "exception": false,
          "start_time": "2024-04-02T14:03:11.503177",
          "status": "completed"
        },
        "tags": [],
        "id": "78405f9f"
      },
      "source": [
        "High class imbalance in a dataset, especially when dealing with situations like fraud detection, is crucial for model performance, potentially leading to **overfitting** and **wrong correlations** if not properly addressed.\n",
        "\n",
        "This notebook employs undersampling and oversampling techniques to tackle the issue of class imbalance. Specifically, it utilizes the **Synthetic Minority Over-sampling Technique (SMOTE)** class for oversampling and the **RandomUnderSampler** class for undersampling.\n"
      ]
    },
    {
      "cell_type": "code",
      "execution_count": null,
      "id": "33f18503",
      "metadata": {
        "execution": {
          "iopub.execute_input": "2024-04-02T14:03:11.572967Z",
          "iopub.status.busy": "2024-04-02T14:03:11.572098Z",
          "iopub.status.idle": "2024-04-02T14:03:11.699972Z",
          "shell.execute_reply": "2024-04-02T14:03:11.699131Z"
        },
        "papermill": {
          "duration": 0.153113,
          "end_time": "2024-04-02T14:03:11.702005",
          "exception": false,
          "start_time": "2024-04-02T14:03:11.548892",
          "status": "completed"
        },
        "tags": [],
        "id": "33f18503",
        "outputId": "6eb1df7e-5f26-488d-c892-e94a02633104"
      },
      "outputs": [
        {
          "data": {
            "text/plain": [
              "Class\n",
              "0   0.6666667\n",
              "1   0.3333333\n",
              "Name: proportion, dtype: float64"
            ]
          },
          "execution_count": 16,
          "metadata": {},
          "output_type": "execute_result"
        }
      ],
      "source": [
        "# Instantiate oversampling and undersampling techniques\n",
        "random_state = 0\n",
        "over = SMOTE(sampling_strategy = 0.5, random_state = random_state)\n",
        "under = RandomUnderSampler(sampling_strategy = 0.1, random_state = random_state)\n",
        "\n",
        "# Define features (X) and target variable (y)\n",
        "X = df_subset.drop('Class', axis=1)\n",
        "y = df_subset['Class']\n",
        "\n",
        "# Define Pipeline steps and aplly the resampling\n",
        "pipeline = Pipeline(steps=[\n",
        "    ('under', under),\n",
        "    ('over', over)\n",
        "])\n",
        "\n",
        "X, y = pipeline.fit_resample(X, y)\n",
        "\n",
        "# Check for the Target variable new distribution\n",
        "y.value_counts(normalize=True)"
      ]
    },
    {
      "cell_type": "markdown",
      "id": "e3eea605",
      "metadata": {
        "papermill": {
          "duration": 0.022582,
          "end_time": "2024-04-02T14:03:11.747719",
          "exception": false,
          "start_time": "2024-04-02T14:03:11.725137",
          "status": "completed"
        },
        "tags": [],
        "id": "e3eea605"
      },
      "source": [
        "<a id = '6.0'></a>\n",
        "<h2 style = \"font-size:35px; font-family:Garamond ; font-weight : normal; background-color: #263D42; color :#FFFFFF   ; text-align: center; border-radius: 5px 5px; padding: 5px\"> 6. Modeling </h2>"
      ]
    },
    {
      "cell_type": "markdown",
      "id": "ccf6ff1d",
      "metadata": {
        "papermill": {
          "duration": 0.022755,
          "end_time": "2024-04-02T14:03:11.794059",
          "exception": false,
          "start_time": "2024-04-02T14:03:11.771304",
          "status": "completed"
        },
        "tags": [],
        "id": "ccf6ff1d"
      },
      "source": [
        "Due to the high class imbalance, the chosen scoring metrics for the models are **AUC**, **AUPRC** and **f1 score**, providing a more nuanced evaluation of model performance in imbalanced datasets.\n",
        "\n",
        "Additionally, the **average_precision_score** function in scikit-learn is utilized for calculating the AUPRC score due to the skewed distribution of the target variable, further explanation are available in the provided references.\n"
      ]
    },
    {
      "cell_type": "code",
      "execution_count": null,
      "id": "7d1e856b",
      "metadata": {
        "execution": {
          "iopub.execute_input": "2024-04-02T14:03:11.842940Z",
          "iopub.status.busy": "2024-04-02T14:03:11.841939Z",
          "iopub.status.idle": "2024-04-02T14:03:11.975850Z",
          "shell.execute_reply": "2024-04-02T14:03:11.975088Z"
        },
        "papermill": {
          "duration": 0.161081,
          "end_time": "2024-04-02T14:03:11.977979",
          "exception": false,
          "start_time": "2024-04-02T14:03:11.816898",
          "status": "completed"
        },
        "scrolled": true,
        "tags": [],
        "id": "7d1e856b"
      },
      "outputs": [],
      "source": [
        "# Importing libraries for data splitting and model evaluation\n",
        "from sklearn.model_selection import train_test_split, cross_val_score\n",
        "from sklearn.metrics import average_precision_score, roc_auc_score, f1_score\n",
        "\n",
        "# Importing libraries for model training\n",
        "from sklearn.linear_model import LogisticRegression\n",
        "from sklearn.tree import DecisionTreeClassifier\n",
        "from sklearn.svm import SVC\n",
        "from sklearn.ensemble import RandomForestClassifier\n",
        "from sklearn.neighbors import KNeighborsClassifier\n",
        "from sklearn.model_selection import StratifiedKFold\n",
        "\n",
        "# Importing libraries for hyperparameter optimization\n",
        "import optuna\n",
        "optuna.logging.set_verbosity(optuna.logging.WARNING)\n",
        "from sklearn.model_selection import GridSearchCV"
      ]
    },
    {
      "cell_type": "code",
      "execution_count": null,
      "id": "c143b86b",
      "metadata": {
        "execution": {
          "iopub.execute_input": "2024-04-02T14:03:12.024150Z",
          "iopub.status.busy": "2024-04-02T14:03:12.023842Z",
          "iopub.status.idle": "2024-04-02T14:03:12.030809Z",
          "shell.execute_reply": "2024-04-02T14:03:12.030151Z"
        },
        "papermill": {
          "duration": 0.03215,
          "end_time": "2024-04-02T14:03:12.032651",
          "exception": false,
          "start_time": "2024-04-02T14:03:12.000501",
          "status": "completed"
        },
        "tags": [],
        "id": "c143b86b"
      },
      "outputs": [],
      "source": [
        "# Split the dataset into training and testing sets\n",
        "X_train, X_test, y_train, y_test = train_test_split(X, y, test_size = 0.2, random_state = 0)"
      ]
    },
    {
      "cell_type": "markdown",
      "id": "22d58194",
      "metadata": {
        "papermill": {
          "duration": 0.02257,
          "end_time": "2024-04-02T14:03:12.077933",
          "exception": false,
          "start_time": "2024-04-02T14:03:12.055363",
          "status": "completed"
        },
        "tags": [],
        "id": "22d58194"
      },
      "source": [
        "### **Decision Tree Classifier using GridSearchCV**"
      ]
    },
    {
      "cell_type": "code",
      "execution_count": null,
      "id": "10265b21",
      "metadata": {
        "execution": {
          "iopub.execute_input": "2024-04-02T14:03:12.123880Z",
          "iopub.status.busy": "2024-04-02T14:03:12.123599Z",
          "iopub.status.idle": "2024-04-02T14:03:12.129271Z",
          "shell.execute_reply": "2024-04-02T14:03:12.128521Z"
        },
        "papermill": {
          "duration": 0.03059,
          "end_time": "2024-04-02T14:03:12.131084",
          "exception": false,
          "start_time": "2024-04-02T14:03:12.100494",
          "status": "completed"
        },
        "tags": [],
        "id": "10265b21"
      },
      "outputs": [],
      "source": [
        "dtc = DecisionTreeClassifier(random_state=0)\n",
        "\n",
        "param_grid_dtc = {'max_depth': [None, 10, 100, 200, 300],\n",
        "                  'min_samples_leaf': [1, 2, 10, 25, 50],\n",
        "                  'min_samples_split': [2, 5, 10, 25, 50],\n",
        "                  'max_features': ['sqrt', 0.5, None],\n",
        "                  'criterion': ['gini', 'entropy']\n",
        "                 }\n",
        "\n",
        "dtc_cv = GridSearchCV(dtc, param_grid_dtc, scoring='average_precision', cv=5, n_jobs=-1)"
      ]
    },
    {
      "cell_type": "code",
      "execution_count": null,
      "id": "3059e20a",
      "metadata": {
        "execution": {
          "iopub.execute_input": "2024-04-02T14:03:12.177653Z",
          "iopub.status.busy": "2024-04-02T14:03:12.176942Z",
          "iopub.status.idle": "2024-04-02T14:03:55.915398Z",
          "shell.execute_reply": "2024-04-02T14:03:55.914294Z"
        },
        "papermill": {
          "duration": 43.787515,
          "end_time": "2024-04-02T14:03:55.941230",
          "exception": false,
          "start_time": "2024-04-02T14:03:12.153715",
          "status": "completed"
        },
        "tags": [],
        "id": "3059e20a",
        "outputId": "0d52d088-c8bf-469c-bda9-8d3f9f0d7248"
      },
      "outputs": [
        {
          "name": "stdout",
          "output_type": "stream",
          "text": [
            "CPU times: user 3.79 s, sys: 377 ms, total: 4.17 s\n",
            "Wall time: 43.7 s\n"
          ]
        },
        {
          "data": {
            "text/html": [
              "<style>#sk-container-id-1 {color: black;background-color: white;}#sk-container-id-1 pre{padding: 0;}#sk-container-id-1 div.sk-toggleable {background-color: white;}#sk-container-id-1 label.sk-toggleable__label {cursor: pointer;display: block;width: 100%;margin-bottom: 0;padding: 0.3em;box-sizing: border-box;text-align: center;}#sk-container-id-1 label.sk-toggleable__label-arrow:before {content: \"▸\";float: left;margin-right: 0.25em;color: #696969;}#sk-container-id-1 label.sk-toggleable__label-arrow:hover:before {color: black;}#sk-container-id-1 div.sk-estimator:hover label.sk-toggleable__label-arrow:before {color: black;}#sk-container-id-1 div.sk-toggleable__content {max-height: 0;max-width: 0;overflow: hidden;text-align: left;background-color: #f0f8ff;}#sk-container-id-1 div.sk-toggleable__content pre {margin: 0.2em;color: black;border-radius: 0.25em;background-color: #f0f8ff;}#sk-container-id-1 input.sk-toggleable__control:checked~div.sk-toggleable__content {max-height: 200px;max-width: 100%;overflow: auto;}#sk-container-id-1 input.sk-toggleable__control:checked~label.sk-toggleable__label-arrow:before {content: \"▾\";}#sk-container-id-1 div.sk-estimator input.sk-toggleable__control:checked~label.sk-toggleable__label {background-color: #d4ebff;}#sk-container-id-1 div.sk-label input.sk-toggleable__control:checked~label.sk-toggleable__label {background-color: #d4ebff;}#sk-container-id-1 input.sk-hidden--visually {border: 0;clip: rect(1px 1px 1px 1px);clip: rect(1px, 1px, 1px, 1px);height: 1px;margin: -1px;overflow: hidden;padding: 0;position: absolute;width: 1px;}#sk-container-id-1 div.sk-estimator {font-family: monospace;background-color: #f0f8ff;border: 1px dotted black;border-radius: 0.25em;box-sizing: border-box;margin-bottom: 0.5em;}#sk-container-id-1 div.sk-estimator:hover {background-color: #d4ebff;}#sk-container-id-1 div.sk-parallel-item::after {content: \"\";width: 100%;border-bottom: 1px solid gray;flex-grow: 1;}#sk-container-id-1 div.sk-label:hover label.sk-toggleable__label {background-color: #d4ebff;}#sk-container-id-1 div.sk-serial::before {content: \"\";position: absolute;border-left: 1px solid gray;box-sizing: border-box;top: 0;bottom: 0;left: 50%;z-index: 0;}#sk-container-id-1 div.sk-serial {display: flex;flex-direction: column;align-items: center;background-color: white;padding-right: 0.2em;padding-left: 0.2em;position: relative;}#sk-container-id-1 div.sk-item {position: relative;z-index: 1;}#sk-container-id-1 div.sk-parallel {display: flex;align-items: stretch;justify-content: center;background-color: white;position: relative;}#sk-container-id-1 div.sk-item::before, #sk-container-id-1 div.sk-parallel-item::before {content: \"\";position: absolute;border-left: 1px solid gray;box-sizing: border-box;top: 0;bottom: 0;left: 50%;z-index: -1;}#sk-container-id-1 div.sk-parallel-item {display: flex;flex-direction: column;z-index: 1;position: relative;background-color: white;}#sk-container-id-1 div.sk-parallel-item:first-child::after {align-self: flex-end;width: 50%;}#sk-container-id-1 div.sk-parallel-item:last-child::after {align-self: flex-start;width: 50%;}#sk-container-id-1 div.sk-parallel-item:only-child::after {width: 0;}#sk-container-id-1 div.sk-dashed-wrapped {border: 1px dashed gray;margin: 0 0.4em 0.5em 0.4em;box-sizing: border-box;padding-bottom: 0.4em;background-color: white;}#sk-container-id-1 div.sk-label label {font-family: monospace;font-weight: bold;display: inline-block;line-height: 1.2em;}#sk-container-id-1 div.sk-label-container {text-align: center;}#sk-container-id-1 div.sk-container {/* jupyter's `normalize.less` sets `[hidden] { display: none; }` but bootstrap.min.css set `[hidden] { display: none !important; }` so we also need the `!important` here to be able to override the default hidden behavior on the sphinx rendered scikit-learn.org. See: https://github.com/scikit-learn/scikit-learn/issues/21755 */display: inline-block !important;position: relative;}#sk-container-id-1 div.sk-text-repr-fallback {display: none;}</style><div id=\"sk-container-id-1\" class=\"sk-top-container\"><div class=\"sk-text-repr-fallback\"><pre>GridSearchCV(cv=5, estimator=DecisionTreeClassifier(random_state=0), n_jobs=-1,\n",
              "             param_grid={&#x27;criterion&#x27;: [&#x27;gini&#x27;, &#x27;entropy&#x27;],\n",
              "                         &#x27;max_depth&#x27;: [None, 10, 100, 200, 300],\n",
              "                         &#x27;max_features&#x27;: [&#x27;sqrt&#x27;, 0.5, None],\n",
              "                         &#x27;min_samples_leaf&#x27;: [1, 2, 10, 25, 50],\n",
              "                         &#x27;min_samples_split&#x27;: [2, 5, 10, 25, 50]},\n",
              "             scoring=&#x27;average_precision&#x27;)</pre><b>In a Jupyter environment, please rerun this cell to show the HTML representation or trust the notebook. <br />On GitHub, the HTML representation is unable to render, please try loading this page with nbviewer.org.</b></div><div class=\"sk-container\" hidden><div class=\"sk-item sk-dashed-wrapped\"><div class=\"sk-label-container\"><div class=\"sk-label sk-toggleable\"><input class=\"sk-toggleable__control sk-hidden--visually\" id=\"sk-estimator-id-1\" type=\"checkbox\" ><label for=\"sk-estimator-id-1\" class=\"sk-toggleable__label sk-toggleable__label-arrow\">GridSearchCV</label><div class=\"sk-toggleable__content\"><pre>GridSearchCV(cv=5, estimator=DecisionTreeClassifier(random_state=0), n_jobs=-1,\n",
              "             param_grid={&#x27;criterion&#x27;: [&#x27;gini&#x27;, &#x27;entropy&#x27;],\n",
              "                         &#x27;max_depth&#x27;: [None, 10, 100, 200, 300],\n",
              "                         &#x27;max_features&#x27;: [&#x27;sqrt&#x27;, 0.5, None],\n",
              "                         &#x27;min_samples_leaf&#x27;: [1, 2, 10, 25, 50],\n",
              "                         &#x27;min_samples_split&#x27;: [2, 5, 10, 25, 50]},\n",
              "             scoring=&#x27;average_precision&#x27;)</pre></div></div></div><div class=\"sk-parallel\"><div class=\"sk-parallel-item\"><div class=\"sk-item\"><div class=\"sk-label-container\"><div class=\"sk-label sk-toggleable\"><input class=\"sk-toggleable__control sk-hidden--visually\" id=\"sk-estimator-id-2\" type=\"checkbox\" ><label for=\"sk-estimator-id-2\" class=\"sk-toggleable__label sk-toggleable__label-arrow\">estimator: DecisionTreeClassifier</label><div class=\"sk-toggleable__content\"><pre>DecisionTreeClassifier(random_state=0)</pre></div></div></div><div class=\"sk-serial\"><div class=\"sk-item\"><div class=\"sk-estimator sk-toggleable\"><input class=\"sk-toggleable__control sk-hidden--visually\" id=\"sk-estimator-id-3\" type=\"checkbox\" ><label for=\"sk-estimator-id-3\" class=\"sk-toggleable__label sk-toggleable__label-arrow\">DecisionTreeClassifier</label><div class=\"sk-toggleable__content\"><pre>DecisionTreeClassifier(random_state=0)</pre></div></div></div></div></div></div></div></div></div></div>"
            ],
            "text/plain": [
              "GridSearchCV(cv=5, estimator=DecisionTreeClassifier(random_state=0), n_jobs=-1,\n",
              "             param_grid={'criterion': ['gini', 'entropy'],\n",
              "                         'max_depth': [None, 10, 100, 200, 300],\n",
              "                         'max_features': ['sqrt', 0.5, None],\n",
              "                         'min_samples_leaf': [1, 2, 10, 25, 50],\n",
              "                         'min_samples_split': [2, 5, 10, 25, 50]},\n",
              "             scoring='average_precision')"
            ]
          },
          "execution_count": 20,
          "metadata": {},
          "output_type": "execute_result"
        }
      ],
      "source": [
        "%%time\n",
        "dtc_cv.fit(X_train, y_train)"
      ]
    },
    {
      "cell_type": "code",
      "execution_count": null,
      "id": "2df2f77b",
      "metadata": {
        "execution": {
          "iopub.execute_input": "2024-04-02T14:03:55.988613Z",
          "iopub.status.busy": "2024-04-02T14:03:55.987784Z",
          "iopub.status.idle": "2024-04-02T14:03:55.994312Z",
          "shell.execute_reply": "2024-04-02T14:03:55.993462Z"
        },
        "papermill": {
          "duration": 0.032362,
          "end_time": "2024-04-02T14:03:55.996255",
          "exception": false,
          "start_time": "2024-04-02T14:03:55.963893",
          "status": "completed"
        },
        "tags": [],
        "id": "2df2f77b"
      },
      "outputs": [],
      "source": [
        "y_pred = dtc_cv.predict(X_test)"
      ]
    },
    {
      "cell_type": "code",
      "execution_count": null,
      "id": "56478756",
      "metadata": {
        "execution": {
          "iopub.execute_input": "2024-04-02T14:03:56.043002Z",
          "iopub.status.busy": "2024-04-02T14:03:56.042716Z",
          "iopub.status.idle": "2024-04-02T14:03:56.058626Z",
          "shell.execute_reply": "2024-04-02T14:03:56.057582Z"
        },
        "papermill": {
          "duration": 0.041647,
          "end_time": "2024-04-02T14:03:56.060593",
          "exception": false,
          "start_time": "2024-04-02T14:03:56.018946",
          "status": "completed"
        },
        "tags": [],
        "id": "56478756",
        "outputId": "4bde6f4c-8998-4780-f8b3-1ff713c25fb3"
      },
      "outputs": [
        {
          "name": "stdout",
          "output_type": "stream",
          "text": [
            "ROC AUC Score: 0.9315004277690846\n",
            "AUPRC Score: 0.8711614176730456\n",
            "F1 Score: 0.914103923647932\n"
          ]
        }
      ],
      "source": [
        "roc_auc = roc_auc_score(y_test, y_pred)\n",
        "print(\"ROC AUC Score:\", roc_auc)\n",
        "\n",
        "auprc = average_precision_score(y_test, y_pred)\n",
        "print(\"AUPRC Score:\", auprc)\n",
        "\n",
        "f1 = f1_score(y_test, y_pred)\n",
        "print(\"F1 Score:\", f1)"
      ]
    },
    {
      "cell_type": "markdown",
      "id": "2bebea30",
      "metadata": {
        "papermill": {
          "duration": 0.023219,
          "end_time": "2024-04-02T14:03:56.106829",
          "exception": false,
          "start_time": "2024-04-02T14:03:56.083610",
          "status": "completed"
        },
        "tags": [],
        "id": "2bebea30"
      },
      "source": [
        "### **Decision Tree Classifier using Optuna**"
      ]
    },
    {
      "cell_type": "code",
      "execution_count": null,
      "id": "4fe34e85",
      "metadata": {
        "execution": {
          "iopub.execute_input": "2024-04-02T14:03:56.154093Z",
          "iopub.status.busy": "2024-04-02T14:03:56.153821Z",
          "iopub.status.idle": "2024-04-02T14:03:56.160552Z",
          "shell.execute_reply": "2024-04-02T14:03:56.159680Z"
        },
        "papermill": {
          "duration": 0.032501,
          "end_time": "2024-04-02T14:03:56.162453",
          "exception": false,
          "start_time": "2024-04-02T14:03:56.129952",
          "status": "completed"
        },
        "tags": [],
        "id": "4fe34e85"
      },
      "outputs": [],
      "source": [
        "def objective(trial):\n",
        "    # Hyperparameters to be optimized\n",
        "    max_depth = trial.suggest_int(\"max_depth\", 2, 300)\n",
        "    min_samples_leaf = trial.suggest_int(\"min_samples_leaf\", 1, 50)\n",
        "    min_samples_split = trial.suggest_int(\"min_samples_split\", 2, 50)\n",
        "    max_features = trial.suggest_categorical(\"max_features\", [0.5, 'sqrt', None])\n",
        "    criterion = trial.suggest_categorical(\"criterion\", ['gini', 'entropy'])\n",
        "\n",
        "    # Constructing DecisionTreeClassifier with sampled hyperparameters\n",
        "    params = {\n",
        "        \"max_depth\": max_depth,\n",
        "        \"min_samples_leaf\": min_samples_leaf,\n",
        "        \"min_samples_split\": min_samples_split,\n",
        "        \"max_features\": max_features,\n",
        "        \"criterion\": criterion\n",
        "    }\n",
        "\n",
        "    model = DecisionTreeClassifier(random_state=0, **params)\n",
        "\n",
        "    # Cross-validation using average precision as scoring metric\n",
        "    scores = cross_val_score(model, X_train, y_train, cv=5, scoring='average_precision', n_jobs=-1)\n",
        "    return scores.mean()"
      ]
    },
    {
      "cell_type": "code",
      "execution_count": null,
      "id": "ccaa9f5e",
      "metadata": {
        "execution": {
          "iopub.execute_input": "2024-04-02T14:03:56.209913Z",
          "iopub.status.busy": "2024-04-02T14:03:56.209318Z",
          "iopub.status.idle": "2024-04-02T14:04:05.891897Z",
          "shell.execute_reply": "2024-04-02T14:04:05.890920Z"
        },
        "papermill": {
          "duration": 9.708872,
          "end_time": "2024-04-02T14:04:05.894408",
          "exception": false,
          "start_time": "2024-04-02T14:03:56.185536",
          "status": "completed"
        },
        "scrolled": true,
        "tags": [],
        "colab": {
          "referenced_widgets": [
            "770df44e6aec4de296fa3ce2a9145640"
          ]
        },
        "id": "ccaa9f5e",
        "outputId": "298b8ec6-63db-4f39-a32f-87923217b4c7"
      },
      "outputs": [
        {
          "data": {
            "application/vnd.jupyter.widget-view+json": {
              "model_id": "770df44e6aec4de296fa3ce2a9145640",
              "version_major": 2,
              "version_minor": 0
            },
            "text/plain": [
              "  0%|          | 0/100 [00:00<?, ?it/s]"
            ]
          },
          "metadata": {},
          "output_type": "display_data"
        },
        {
          "name": "stdout",
          "output_type": "stream",
          "text": [
            "CPU times: user 5.99 s, sys: 461 ms, total: 6.45 s\n",
            "Wall time: 9.68 s\n"
          ]
        }
      ],
      "source": [
        "%%time\n",
        "# Create study object\n",
        "study = optuna.create_study(direction=\"maximize\")\n",
        "\n",
        "# Run optimization process\n",
        "study.optimize(objective, n_trials=100, show_progress_bar=True, n_jobs=-1)"
      ]
    },
    {
      "cell_type": "code",
      "execution_count": null,
      "id": "dd3c74c1",
      "metadata": {
        "execution": {
          "iopub.execute_input": "2024-04-02T14:04:05.943833Z",
          "iopub.status.busy": "2024-04-02T14:04:05.943537Z",
          "iopub.status.idle": "2024-04-02T14:04:05.998621Z",
          "shell.execute_reply": "2024-04-02T14:04:05.997797Z"
        },
        "papermill": {
          "duration": 0.082078,
          "end_time": "2024-04-02T14:04:06.000598",
          "exception": false,
          "start_time": "2024-04-02T14:04:05.918520",
          "status": "completed"
        },
        "tags": [],
        "id": "dd3c74c1",
        "outputId": "a4a63924-8090-46af-b4f9-5b3a7262a366"
      },
      "outputs": [
        {
          "data": {
            "text/html": [
              "<style>#sk-container-id-2 {color: black;background-color: white;}#sk-container-id-2 pre{padding: 0;}#sk-container-id-2 div.sk-toggleable {background-color: white;}#sk-container-id-2 label.sk-toggleable__label {cursor: pointer;display: block;width: 100%;margin-bottom: 0;padding: 0.3em;box-sizing: border-box;text-align: center;}#sk-container-id-2 label.sk-toggleable__label-arrow:before {content: \"▸\";float: left;margin-right: 0.25em;color: #696969;}#sk-container-id-2 label.sk-toggleable__label-arrow:hover:before {color: black;}#sk-container-id-2 div.sk-estimator:hover label.sk-toggleable__label-arrow:before {color: black;}#sk-container-id-2 div.sk-toggleable__content {max-height: 0;max-width: 0;overflow: hidden;text-align: left;background-color: #f0f8ff;}#sk-container-id-2 div.sk-toggleable__content pre {margin: 0.2em;color: black;border-radius: 0.25em;background-color: #f0f8ff;}#sk-container-id-2 input.sk-toggleable__control:checked~div.sk-toggleable__content {max-height: 200px;max-width: 100%;overflow: auto;}#sk-container-id-2 input.sk-toggleable__control:checked~label.sk-toggleable__label-arrow:before {content: \"▾\";}#sk-container-id-2 div.sk-estimator input.sk-toggleable__control:checked~label.sk-toggleable__label {background-color: #d4ebff;}#sk-container-id-2 div.sk-label input.sk-toggleable__control:checked~label.sk-toggleable__label {background-color: #d4ebff;}#sk-container-id-2 input.sk-hidden--visually {border: 0;clip: rect(1px 1px 1px 1px);clip: rect(1px, 1px, 1px, 1px);height: 1px;margin: -1px;overflow: hidden;padding: 0;position: absolute;width: 1px;}#sk-container-id-2 div.sk-estimator {font-family: monospace;background-color: #f0f8ff;border: 1px dotted black;border-radius: 0.25em;box-sizing: border-box;margin-bottom: 0.5em;}#sk-container-id-2 div.sk-estimator:hover {background-color: #d4ebff;}#sk-container-id-2 div.sk-parallel-item::after {content: \"\";width: 100%;border-bottom: 1px solid gray;flex-grow: 1;}#sk-container-id-2 div.sk-label:hover label.sk-toggleable__label {background-color: #d4ebff;}#sk-container-id-2 div.sk-serial::before {content: \"\";position: absolute;border-left: 1px solid gray;box-sizing: border-box;top: 0;bottom: 0;left: 50%;z-index: 0;}#sk-container-id-2 div.sk-serial {display: flex;flex-direction: column;align-items: center;background-color: white;padding-right: 0.2em;padding-left: 0.2em;position: relative;}#sk-container-id-2 div.sk-item {position: relative;z-index: 1;}#sk-container-id-2 div.sk-parallel {display: flex;align-items: stretch;justify-content: center;background-color: white;position: relative;}#sk-container-id-2 div.sk-item::before, #sk-container-id-2 div.sk-parallel-item::before {content: \"\";position: absolute;border-left: 1px solid gray;box-sizing: border-box;top: 0;bottom: 0;left: 50%;z-index: -1;}#sk-container-id-2 div.sk-parallel-item {display: flex;flex-direction: column;z-index: 1;position: relative;background-color: white;}#sk-container-id-2 div.sk-parallel-item:first-child::after {align-self: flex-end;width: 50%;}#sk-container-id-2 div.sk-parallel-item:last-child::after {align-self: flex-start;width: 50%;}#sk-container-id-2 div.sk-parallel-item:only-child::after {width: 0;}#sk-container-id-2 div.sk-dashed-wrapped {border: 1px dashed gray;margin: 0 0.4em 0.5em 0.4em;box-sizing: border-box;padding-bottom: 0.4em;background-color: white;}#sk-container-id-2 div.sk-label label {font-family: monospace;font-weight: bold;display: inline-block;line-height: 1.2em;}#sk-container-id-2 div.sk-label-container {text-align: center;}#sk-container-id-2 div.sk-container {/* jupyter's `normalize.less` sets `[hidden] { display: none; }` but bootstrap.min.css set `[hidden] { display: none !important; }` so we also need the `!important` here to be able to override the default hidden behavior on the sphinx rendered scikit-learn.org. See: https://github.com/scikit-learn/scikit-learn/issues/21755 */display: inline-block !important;position: relative;}#sk-container-id-2 div.sk-text-repr-fallback {display: none;}</style><div id=\"sk-container-id-2\" class=\"sk-top-container\"><div class=\"sk-text-repr-fallback\"><pre>DecisionTreeClassifier(criterion=&#x27;entropy&#x27;, max_depth=21, min_samples_leaf=31,\n",
              "                       min_samples_split=49, random_state=0)</pre><b>In a Jupyter environment, please rerun this cell to show the HTML representation or trust the notebook. <br />On GitHub, the HTML representation is unable to render, please try loading this page with nbviewer.org.</b></div><div class=\"sk-container\" hidden><div class=\"sk-item\"><div class=\"sk-estimator sk-toggleable\"><input class=\"sk-toggleable__control sk-hidden--visually\" id=\"sk-estimator-id-4\" type=\"checkbox\" checked><label for=\"sk-estimator-id-4\" class=\"sk-toggleable__label sk-toggleable__label-arrow\">DecisionTreeClassifier</label><div class=\"sk-toggleable__content\"><pre>DecisionTreeClassifier(criterion=&#x27;entropy&#x27;, max_depth=21, min_samples_leaf=31,\n",
              "                       min_samples_split=49, random_state=0)</pre></div></div></div></div></div>"
            ],
            "text/plain": [
              "DecisionTreeClassifier(criterion='entropy', max_depth=21, min_samples_leaf=31,\n",
              "                       min_samples_split=49, random_state=0)"
            ]
          },
          "execution_count": 25,
          "metadata": {},
          "output_type": "execute_result"
        }
      ],
      "source": [
        "dtc_optuna = DecisionTreeClassifier(random_state=0, **study.best_params)\n",
        "dtc_optuna.fit(X_train, y_train)"
      ]
    },
    {
      "cell_type": "code",
      "execution_count": null,
      "id": "a88914ef",
      "metadata": {
        "execution": {
          "iopub.execute_input": "2024-04-02T14:04:06.049242Z",
          "iopub.status.busy": "2024-04-02T14:04:06.048960Z",
          "iopub.status.idle": "2024-04-02T14:04:06.055856Z",
          "shell.execute_reply": "2024-04-02T14:04:06.054793Z"
        },
        "papermill": {
          "duration": 0.033818,
          "end_time": "2024-04-02T14:04:06.057947",
          "exception": false,
          "start_time": "2024-04-02T14:04:06.024129",
          "status": "completed"
        },
        "tags": [],
        "id": "a88914ef"
      },
      "outputs": [],
      "source": [
        "y_pred = dtc_optuna.predict(X_test)"
      ]
    },
    {
      "cell_type": "code",
      "execution_count": null,
      "id": "a1c3bbfe",
      "metadata": {
        "execution": {
          "iopub.execute_input": "2024-04-02T14:04:06.107683Z",
          "iopub.status.busy": "2024-04-02T14:04:06.107371Z",
          "iopub.status.idle": "2024-04-02T14:04:06.120261Z",
          "shell.execute_reply": "2024-04-02T14:04:06.119212Z"
        },
        "papermill": {
          "duration": 0.039975,
          "end_time": "2024-04-02T14:04:06.122312",
          "exception": false,
          "start_time": "2024-04-02T14:04:06.082337",
          "status": "completed"
        },
        "tags": [],
        "id": "a1c3bbfe",
        "outputId": "c7574218-b360-4c6d-d98c-22b8965c196d"
      },
      "outputs": [
        {
          "name": "stdout",
          "output_type": "stream",
          "text": [
            "ROC AUC Score: 0.9319802827265514\n",
            "AUPRC Score: 0.8684947772144626\n",
            "F1 Score: 0.9135021097046414\n"
          ]
        }
      ],
      "source": [
        "roc_auc = roc_auc_score(y_test, y_pred)\n",
        "print(\"ROC AUC Score:\", roc_auc)\n",
        "\n",
        "auprc = average_precision_score(y_test, y_pred)\n",
        "print(\"AUPRC Score:\", auprc)\n",
        "\n",
        "f1 = f1_score(y_test, y_pred)\n",
        "print(\"F1 Score:\", f1)"
      ]
    },
    {
      "cell_type": "markdown",
      "id": "b6a0a3bd",
      "metadata": {
        "papermill": {
          "duration": 0.023357,
          "end_time": "2024-04-02T14:04:06.171199",
          "exception": false,
          "start_time": "2024-04-02T14:04:06.147842",
          "status": "completed"
        },
        "tags": [],
        "id": "b6a0a3bd"
      },
      "source": [
        "### **Random Forest Classifier using GridSearchCV**"
      ]
    },
    {
      "cell_type": "code",
      "execution_count": null,
      "id": "95be008c",
      "metadata": {
        "execution": {
          "iopub.execute_input": "2024-04-02T14:04:06.219656Z",
          "iopub.status.busy": "2024-04-02T14:04:06.219333Z",
          "iopub.status.idle": "2024-04-02T14:04:06.223460Z",
          "shell.execute_reply": "2024-04-02T14:04:06.222606Z"
        },
        "papermill": {
          "duration": 0.030545,
          "end_time": "2024-04-02T14:04:06.225368",
          "exception": false,
          "start_time": "2024-04-02T14:04:06.194823",
          "status": "completed"
        },
        "tags": [],
        "id": "95be008c"
      },
      "outputs": [],
      "source": [
        "rfr = RandomForestClassifier(random_state=0)"
      ]
    },
    {
      "cell_type": "code",
      "execution_count": null,
      "id": "46a49941",
      "metadata": {
        "execution": {
          "iopub.execute_input": "2024-04-02T14:04:06.273759Z",
          "iopub.status.busy": "2024-04-02T14:04:06.273508Z",
          "iopub.status.idle": "2024-04-02T14:04:06.278054Z",
          "shell.execute_reply": "2024-04-02T14:04:06.277265Z"
        },
        "papermill": {
          "duration": 0.030938,
          "end_time": "2024-04-02T14:04:06.279872",
          "exception": false,
          "start_time": "2024-04-02T14:04:06.248934",
          "status": "completed"
        },
        "tags": [],
        "id": "46a49941"
      },
      "outputs": [],
      "source": [
        "param_grid_rfr = {\n",
        "    'n_estimators': [100, 250, 300],\n",
        "    'max_features': ['sqrt', 0.5],\n",
        "    'max_depth': [5, 15, 30],\n",
        "    'min_samples_split': [2, 5, 15],\n",
        "    'min_samples_leaf': [2, 3, 4]\n",
        "}"
      ]
    },
    {
      "cell_type": "code",
      "execution_count": null,
      "id": "2a2c3b45",
      "metadata": {
        "execution": {
          "iopub.execute_input": "2024-04-02T14:04:06.328183Z",
          "iopub.status.busy": "2024-04-02T14:04:06.327919Z",
          "iopub.status.idle": "2024-04-02T14:04:06.331989Z",
          "shell.execute_reply": "2024-04-02T14:04:06.331153Z"
        },
        "papermill": {
          "duration": 0.030311,
          "end_time": "2024-04-02T14:04:06.333802",
          "exception": false,
          "start_time": "2024-04-02T14:04:06.303491",
          "status": "completed"
        },
        "tags": [],
        "id": "2a2c3b45"
      },
      "outputs": [],
      "source": [
        "rfr_cv = GridSearchCV(rfr, param_grid_rfr, cv=5, scoring='average_precision', n_jobs=-1)"
      ]
    },
    {
      "cell_type": "code",
      "execution_count": null,
      "id": "ba7feabf",
      "metadata": {
        "execution": {
          "iopub.execute_input": "2024-04-02T14:04:06.382093Z",
          "iopub.status.busy": "2024-04-02T14:04:06.381849Z",
          "iopub.status.idle": "2024-04-02T14:15:29.441773Z",
          "shell.execute_reply": "2024-04-02T14:15:29.440865Z"
        },
        "papermill": {
          "duration": 683.111311,
          "end_time": "2024-04-02T14:15:29.468650",
          "exception": false,
          "start_time": "2024-04-02T14:04:06.357339",
          "status": "completed"
        },
        "tags": [],
        "id": "ba7feabf",
        "outputId": "42cde652-211a-481c-aace-2d304357d0f7"
      },
      "outputs": [
        {
          "name": "stdout",
          "output_type": "stream",
          "text": [
            "CPU times: user 7.68 s, sys: 887 ms, total: 8.57 s\n",
            "Wall time: 11min 23s\n"
          ]
        },
        {
          "data": {
            "text/html": [
              "<style>#sk-container-id-3 {color: black;background-color: white;}#sk-container-id-3 pre{padding: 0;}#sk-container-id-3 div.sk-toggleable {background-color: white;}#sk-container-id-3 label.sk-toggleable__label {cursor: pointer;display: block;width: 100%;margin-bottom: 0;padding: 0.3em;box-sizing: border-box;text-align: center;}#sk-container-id-3 label.sk-toggleable__label-arrow:before {content: \"▸\";float: left;margin-right: 0.25em;color: #696969;}#sk-container-id-3 label.sk-toggleable__label-arrow:hover:before {color: black;}#sk-container-id-3 div.sk-estimator:hover label.sk-toggleable__label-arrow:before {color: black;}#sk-container-id-3 div.sk-toggleable__content {max-height: 0;max-width: 0;overflow: hidden;text-align: left;background-color: #f0f8ff;}#sk-container-id-3 div.sk-toggleable__content pre {margin: 0.2em;color: black;border-radius: 0.25em;background-color: #f0f8ff;}#sk-container-id-3 input.sk-toggleable__control:checked~div.sk-toggleable__content {max-height: 200px;max-width: 100%;overflow: auto;}#sk-container-id-3 input.sk-toggleable__control:checked~label.sk-toggleable__label-arrow:before {content: \"▾\";}#sk-container-id-3 div.sk-estimator input.sk-toggleable__control:checked~label.sk-toggleable__label {background-color: #d4ebff;}#sk-container-id-3 div.sk-label input.sk-toggleable__control:checked~label.sk-toggleable__label {background-color: #d4ebff;}#sk-container-id-3 input.sk-hidden--visually {border: 0;clip: rect(1px 1px 1px 1px);clip: rect(1px, 1px, 1px, 1px);height: 1px;margin: -1px;overflow: hidden;padding: 0;position: absolute;width: 1px;}#sk-container-id-3 div.sk-estimator {font-family: monospace;background-color: #f0f8ff;border: 1px dotted black;border-radius: 0.25em;box-sizing: border-box;margin-bottom: 0.5em;}#sk-container-id-3 div.sk-estimator:hover {background-color: #d4ebff;}#sk-container-id-3 div.sk-parallel-item::after {content: \"\";width: 100%;border-bottom: 1px solid gray;flex-grow: 1;}#sk-container-id-3 div.sk-label:hover label.sk-toggleable__label {background-color: #d4ebff;}#sk-container-id-3 div.sk-serial::before {content: \"\";position: absolute;border-left: 1px solid gray;box-sizing: border-box;top: 0;bottom: 0;left: 50%;z-index: 0;}#sk-container-id-3 div.sk-serial {display: flex;flex-direction: column;align-items: center;background-color: white;padding-right: 0.2em;padding-left: 0.2em;position: relative;}#sk-container-id-3 div.sk-item {position: relative;z-index: 1;}#sk-container-id-3 div.sk-parallel {display: flex;align-items: stretch;justify-content: center;background-color: white;position: relative;}#sk-container-id-3 div.sk-item::before, #sk-container-id-3 div.sk-parallel-item::before {content: \"\";position: absolute;border-left: 1px solid gray;box-sizing: border-box;top: 0;bottom: 0;left: 50%;z-index: -1;}#sk-container-id-3 div.sk-parallel-item {display: flex;flex-direction: column;z-index: 1;position: relative;background-color: white;}#sk-container-id-3 div.sk-parallel-item:first-child::after {align-self: flex-end;width: 50%;}#sk-container-id-3 div.sk-parallel-item:last-child::after {align-self: flex-start;width: 50%;}#sk-container-id-3 div.sk-parallel-item:only-child::after {width: 0;}#sk-container-id-3 div.sk-dashed-wrapped {border: 1px dashed gray;margin: 0 0.4em 0.5em 0.4em;box-sizing: border-box;padding-bottom: 0.4em;background-color: white;}#sk-container-id-3 div.sk-label label {font-family: monospace;font-weight: bold;display: inline-block;line-height: 1.2em;}#sk-container-id-3 div.sk-label-container {text-align: center;}#sk-container-id-3 div.sk-container {/* jupyter's `normalize.less` sets `[hidden] { display: none; }` but bootstrap.min.css set `[hidden] { display: none !important; }` so we also need the `!important` here to be able to override the default hidden behavior on the sphinx rendered scikit-learn.org. See: https://github.com/scikit-learn/scikit-learn/issues/21755 */display: inline-block !important;position: relative;}#sk-container-id-3 div.sk-text-repr-fallback {display: none;}</style><div id=\"sk-container-id-3\" class=\"sk-top-container\"><div class=\"sk-text-repr-fallback\"><pre>GridSearchCV(cv=5, estimator=RandomForestClassifier(random_state=0), n_jobs=-1,\n",
              "             param_grid={&#x27;max_depth&#x27;: [5, 15, 30],\n",
              "                         &#x27;max_features&#x27;: [&#x27;sqrt&#x27;, 0.5],\n",
              "                         &#x27;min_samples_leaf&#x27;: [2, 3, 4],\n",
              "                         &#x27;min_samples_split&#x27;: [2, 5, 15],\n",
              "                         &#x27;n_estimators&#x27;: [100, 250, 300]},\n",
              "             scoring=&#x27;average_precision&#x27;)</pre><b>In a Jupyter environment, please rerun this cell to show the HTML representation or trust the notebook. <br />On GitHub, the HTML representation is unable to render, please try loading this page with nbviewer.org.</b></div><div class=\"sk-container\" hidden><div class=\"sk-item sk-dashed-wrapped\"><div class=\"sk-label-container\"><div class=\"sk-label sk-toggleable\"><input class=\"sk-toggleable__control sk-hidden--visually\" id=\"sk-estimator-id-5\" type=\"checkbox\" ><label for=\"sk-estimator-id-5\" class=\"sk-toggleable__label sk-toggleable__label-arrow\">GridSearchCV</label><div class=\"sk-toggleable__content\"><pre>GridSearchCV(cv=5, estimator=RandomForestClassifier(random_state=0), n_jobs=-1,\n",
              "             param_grid={&#x27;max_depth&#x27;: [5, 15, 30],\n",
              "                         &#x27;max_features&#x27;: [&#x27;sqrt&#x27;, 0.5],\n",
              "                         &#x27;min_samples_leaf&#x27;: [2, 3, 4],\n",
              "                         &#x27;min_samples_split&#x27;: [2, 5, 15],\n",
              "                         &#x27;n_estimators&#x27;: [100, 250, 300]},\n",
              "             scoring=&#x27;average_precision&#x27;)</pre></div></div></div><div class=\"sk-parallel\"><div class=\"sk-parallel-item\"><div class=\"sk-item\"><div class=\"sk-label-container\"><div class=\"sk-label sk-toggleable\"><input class=\"sk-toggleable__control sk-hidden--visually\" id=\"sk-estimator-id-6\" type=\"checkbox\" ><label for=\"sk-estimator-id-6\" class=\"sk-toggleable__label sk-toggleable__label-arrow\">estimator: RandomForestClassifier</label><div class=\"sk-toggleable__content\"><pre>RandomForestClassifier(random_state=0)</pre></div></div></div><div class=\"sk-serial\"><div class=\"sk-item\"><div class=\"sk-estimator sk-toggleable\"><input class=\"sk-toggleable__control sk-hidden--visually\" id=\"sk-estimator-id-7\" type=\"checkbox\" ><label for=\"sk-estimator-id-7\" class=\"sk-toggleable__label sk-toggleable__label-arrow\">RandomForestClassifier</label><div class=\"sk-toggleable__content\"><pre>RandomForestClassifier(random_state=0)</pre></div></div></div></div></div></div></div></div></div></div>"
            ],
            "text/plain": [
              "GridSearchCV(cv=5, estimator=RandomForestClassifier(random_state=0), n_jobs=-1,\n",
              "             param_grid={'max_depth': [5, 15, 30],\n",
              "                         'max_features': ['sqrt', 0.5],\n",
              "                         'min_samples_leaf': [2, 3, 4],\n",
              "                         'min_samples_split': [2, 5, 15],\n",
              "                         'n_estimators': [100, 250, 300]},\n",
              "             scoring='average_precision')"
            ]
          },
          "execution_count": 31,
          "metadata": {},
          "output_type": "execute_result"
        }
      ],
      "source": [
        "%%time\n",
        "rfr_cv.fit(X_train, y_train)"
      ]
    },
    {
      "cell_type": "code",
      "execution_count": null,
      "id": "942771e1",
      "metadata": {
        "execution": {
          "iopub.execute_input": "2024-04-02T14:15:29.519407Z",
          "iopub.status.busy": "2024-04-02T14:15:29.519096Z",
          "iopub.status.idle": "2024-04-02T14:15:29.580705Z",
          "shell.execute_reply": "2024-04-02T14:15:29.579659Z"
        },
        "papermill": {
          "duration": 0.089502,
          "end_time": "2024-04-02T14:15:29.582761",
          "exception": false,
          "start_time": "2024-04-02T14:15:29.493259",
          "status": "completed"
        },
        "scrolled": true,
        "tags": [],
        "id": "942771e1"
      },
      "outputs": [],
      "source": [
        "y_pred = rfr_cv.predict(X_test)"
      ]
    },
    {
      "cell_type": "code",
      "execution_count": null,
      "id": "5475a0c9",
      "metadata": {
        "execution": {
          "iopub.execute_input": "2024-04-02T14:15:29.633836Z",
          "iopub.status.busy": "2024-04-02T14:15:29.632924Z",
          "iopub.status.idle": "2024-04-02T14:15:29.645531Z",
          "shell.execute_reply": "2024-04-02T14:15:29.644664Z"
        },
        "papermill": {
          "duration": 0.039605,
          "end_time": "2024-04-02T14:15:29.647474",
          "exception": false,
          "start_time": "2024-04-02T14:15:29.607869",
          "status": "completed"
        },
        "tags": [],
        "id": "5475a0c9",
        "outputId": "783667bb-a045-426c-bc49-484800aef9cb"
      },
      "outputs": [
        {
          "name": "stdout",
          "output_type": "stream",
          "text": [
            "ROC AUC Score: 0.9630046234523847\n",
            "AUPRC Score: 0.9416934127766441\n",
            "F1 Score: 0.9583778014941302\n"
          ]
        }
      ],
      "source": [
        "roc_auc = roc_auc_score(y_test, y_pred)\n",
        "print(\"ROC AUC Score:\", roc_auc)\n",
        "\n",
        "auprc = average_precision_score(y_test, y_pred)\n",
        "print(\"AUPRC Score:\", auprc)\n",
        "\n",
        "f1 = f1_score(y_test, y_pred)\n",
        "print(\"F1 Score:\", f1)"
      ]
    },
    {
      "cell_type": "markdown",
      "id": "6e5288c2",
      "metadata": {
        "papermill": {
          "duration": 0.024025,
          "end_time": "2024-04-02T14:15:29.695689",
          "exception": false,
          "start_time": "2024-04-02T14:15:29.671664",
          "status": "completed"
        },
        "tags": [],
        "id": "6e5288c2"
      },
      "source": [
        "### **Random Forest Classifier using Optuna**"
      ]
    },
    {
      "cell_type": "code",
      "execution_count": null,
      "id": "23c839e5",
      "metadata": {
        "execution": {
          "iopub.execute_input": "2024-04-02T14:15:29.745296Z",
          "iopub.status.busy": "2024-04-02T14:15:29.745049Z",
          "iopub.status.idle": "2024-04-02T14:15:29.751701Z",
          "shell.execute_reply": "2024-04-02T14:15:29.750993Z"
        },
        "papermill": {
          "duration": 0.033633,
          "end_time": "2024-04-02T14:15:29.753565",
          "exception": false,
          "start_time": "2024-04-02T14:15:29.719932",
          "status": "completed"
        },
        "tags": [],
        "id": "23c839e5"
      },
      "outputs": [],
      "source": [
        "def objective(trial):\n",
        "    # Hyperparameters to be optimized\n",
        "    n_estimators = trial.suggest_int(\"n_estimators\", low=100, high=300, step=50)\n",
        "    max_features = trial.suggest_categorical(\"max_features\", [0.5, 'sqrt'])\n",
        "    max_depth = trial.suggest_int(\"max_depth\", low=5, high=30)\n",
        "    min_samples_split = trial.suggest_int(\"min_samples_split\", low=2, high=15)\n",
        "    min_samples_leaf = trial.suggest_int(\"min_samples_leaf\", low=1, high=4)\n",
        "\n",
        "    # Constructing RandomForestClassifier with sampled hyperparameters\n",
        "    params = {\n",
        "        \"n_estimators\": n_estimators,\n",
        "        \"max_features\": max_features,\n",
        "        \"max_depth\": max_depth,\n",
        "        \"min_samples_split\": min_samples_split,\n",
        "        \"min_samples_leaf\": min_samples_leaf\n",
        "    }\n",
        "\n",
        "    model = RandomForestClassifier(random_state=0, **params)\n",
        "\n",
        "    # Cross-validation using average precision as scoring metric\n",
        "    scores = cross_val_score(model, X_train, y_train, cv=5, scoring='average_precision', n_jobs=-1)\n",
        "    return scores.mean()"
      ]
    },
    {
      "cell_type": "code",
      "execution_count": null,
      "id": "f51350a7",
      "metadata": {
        "execution": {
          "iopub.execute_input": "2024-04-02T14:15:29.803361Z",
          "iopub.status.busy": "2024-04-02T14:15:29.803115Z",
          "iopub.status.idle": "2024-04-02T14:22:37.752047Z",
          "shell.execute_reply": "2024-04-02T14:22:37.751037Z"
        },
        "papermill": {
          "duration": 427.978035,
          "end_time": "2024-04-02T14:22:37.755858",
          "exception": false,
          "start_time": "2024-04-02T14:15:29.777823",
          "status": "completed"
        },
        "scrolled": true,
        "tags": [],
        "colab": {
          "referenced_widgets": [
            "5c76237285874f4cb0f082e7fe9c2a36"
          ]
        },
        "id": "f51350a7",
        "outputId": "9ef8cd31-e86f-4113-a977-f81c2c6d2faa"
      },
      "outputs": [
        {
          "data": {
            "application/vnd.jupyter.widget-view+json": {
              "model_id": "5c76237285874f4cb0f082e7fe9c2a36",
              "version_major": 2,
              "version_minor": 0
            },
            "text/plain": [
              "  0%|          | 0/100 [00:00<?, ?it/s]"
            ]
          },
          "metadata": {},
          "output_type": "display_data"
        },
        {
          "name": "stdout",
          "output_type": "stream",
          "text": [
            "CPU times: user 8.71 s, sys: 1.49 s, total: 10.2 s\n",
            "Wall time: 7min 7s\n"
          ]
        }
      ],
      "source": [
        "%%time\n",
        "# Create study object\n",
        "study = optuna.create_study(direction=\"maximize\")\n",
        "\n",
        "# Run optimization process\n",
        "study.optimize(objective, n_trials=100, show_progress_bar=True, n_jobs=-1)"
      ]
    },
    {
      "cell_type": "code",
      "execution_count": null,
      "id": "4af0e7d9",
      "metadata": {
        "execution": {
          "iopub.execute_input": "2024-04-02T14:22:37.807040Z",
          "iopub.status.busy": "2024-04-02T14:22:37.806740Z",
          "iopub.status.idle": "2024-04-02T14:22:41.866759Z",
          "shell.execute_reply": "2024-04-02T14:22:41.865791Z"
        },
        "papermill": {
          "duration": 4.087684,
          "end_time": "2024-04-02T14:22:41.868795",
          "exception": false,
          "start_time": "2024-04-02T14:22:37.781111",
          "status": "completed"
        },
        "tags": [],
        "id": "4af0e7d9",
        "outputId": "909a9041-829a-4ebc-d693-b9db0d1c4419"
      },
      "outputs": [
        {
          "data": {
            "text/html": [
              "<style>#sk-container-id-4 {color: black;background-color: white;}#sk-container-id-4 pre{padding: 0;}#sk-container-id-4 div.sk-toggleable {background-color: white;}#sk-container-id-4 label.sk-toggleable__label {cursor: pointer;display: block;width: 100%;margin-bottom: 0;padding: 0.3em;box-sizing: border-box;text-align: center;}#sk-container-id-4 label.sk-toggleable__label-arrow:before {content: \"▸\";float: left;margin-right: 0.25em;color: #696969;}#sk-container-id-4 label.sk-toggleable__label-arrow:hover:before {color: black;}#sk-container-id-4 div.sk-estimator:hover label.sk-toggleable__label-arrow:before {color: black;}#sk-container-id-4 div.sk-toggleable__content {max-height: 0;max-width: 0;overflow: hidden;text-align: left;background-color: #f0f8ff;}#sk-container-id-4 div.sk-toggleable__content pre {margin: 0.2em;color: black;border-radius: 0.25em;background-color: #f0f8ff;}#sk-container-id-4 input.sk-toggleable__control:checked~div.sk-toggleable__content {max-height: 200px;max-width: 100%;overflow: auto;}#sk-container-id-4 input.sk-toggleable__control:checked~label.sk-toggleable__label-arrow:before {content: \"▾\";}#sk-container-id-4 div.sk-estimator input.sk-toggleable__control:checked~label.sk-toggleable__label {background-color: #d4ebff;}#sk-container-id-4 div.sk-label input.sk-toggleable__control:checked~label.sk-toggleable__label {background-color: #d4ebff;}#sk-container-id-4 input.sk-hidden--visually {border: 0;clip: rect(1px 1px 1px 1px);clip: rect(1px, 1px, 1px, 1px);height: 1px;margin: -1px;overflow: hidden;padding: 0;position: absolute;width: 1px;}#sk-container-id-4 div.sk-estimator {font-family: monospace;background-color: #f0f8ff;border: 1px dotted black;border-radius: 0.25em;box-sizing: border-box;margin-bottom: 0.5em;}#sk-container-id-4 div.sk-estimator:hover {background-color: #d4ebff;}#sk-container-id-4 div.sk-parallel-item::after {content: \"\";width: 100%;border-bottom: 1px solid gray;flex-grow: 1;}#sk-container-id-4 div.sk-label:hover label.sk-toggleable__label {background-color: #d4ebff;}#sk-container-id-4 div.sk-serial::before {content: \"\";position: absolute;border-left: 1px solid gray;box-sizing: border-box;top: 0;bottom: 0;left: 50%;z-index: 0;}#sk-container-id-4 div.sk-serial {display: flex;flex-direction: column;align-items: center;background-color: white;padding-right: 0.2em;padding-left: 0.2em;position: relative;}#sk-container-id-4 div.sk-item {position: relative;z-index: 1;}#sk-container-id-4 div.sk-parallel {display: flex;align-items: stretch;justify-content: center;background-color: white;position: relative;}#sk-container-id-4 div.sk-item::before, #sk-container-id-4 div.sk-parallel-item::before {content: \"\";position: absolute;border-left: 1px solid gray;box-sizing: border-box;top: 0;bottom: 0;left: 50%;z-index: -1;}#sk-container-id-4 div.sk-parallel-item {display: flex;flex-direction: column;z-index: 1;position: relative;background-color: white;}#sk-container-id-4 div.sk-parallel-item:first-child::after {align-self: flex-end;width: 50%;}#sk-container-id-4 div.sk-parallel-item:last-child::after {align-self: flex-start;width: 50%;}#sk-container-id-4 div.sk-parallel-item:only-child::after {width: 0;}#sk-container-id-4 div.sk-dashed-wrapped {border: 1px dashed gray;margin: 0 0.4em 0.5em 0.4em;box-sizing: border-box;padding-bottom: 0.4em;background-color: white;}#sk-container-id-4 div.sk-label label {font-family: monospace;font-weight: bold;display: inline-block;line-height: 1.2em;}#sk-container-id-4 div.sk-label-container {text-align: center;}#sk-container-id-4 div.sk-container {/* jupyter's `normalize.less` sets `[hidden] { display: none; }` but bootstrap.min.css set `[hidden] { display: none !important; }` so we also need the `!important` here to be able to override the default hidden behavior on the sphinx rendered scikit-learn.org. See: https://github.com/scikit-learn/scikit-learn/issues/21755 */display: inline-block !important;position: relative;}#sk-container-id-4 div.sk-text-repr-fallback {display: none;}</style><div id=\"sk-container-id-4\" class=\"sk-top-container\"><div class=\"sk-text-repr-fallback\"><pre>RandomForestClassifier(max_depth=23, n_estimators=300, random_state=0)</pre><b>In a Jupyter environment, please rerun this cell to show the HTML representation or trust the notebook. <br />On GitHub, the HTML representation is unable to render, please try loading this page with nbviewer.org.</b></div><div class=\"sk-container\" hidden><div class=\"sk-item\"><div class=\"sk-estimator sk-toggleable\"><input class=\"sk-toggleable__control sk-hidden--visually\" id=\"sk-estimator-id-8\" type=\"checkbox\" checked><label for=\"sk-estimator-id-8\" class=\"sk-toggleable__label sk-toggleable__label-arrow\">RandomForestClassifier</label><div class=\"sk-toggleable__content\"><pre>RandomForestClassifier(max_depth=23, n_estimators=300, random_state=0)</pre></div></div></div></div></div>"
            ],
            "text/plain": [
              "RandomForestClassifier(max_depth=23, n_estimators=300, random_state=0)"
            ]
          },
          "execution_count": 36,
          "metadata": {},
          "output_type": "execute_result"
        }
      ],
      "source": [
        "rfc_optuna = RandomForestClassifier(random_state=0, **study.best_params)\n",
        "rfc_optuna.fit(X_train, y_train)"
      ]
    },
    {
      "cell_type": "code",
      "execution_count": null,
      "id": "6996a387",
      "metadata": {
        "execution": {
          "iopub.execute_input": "2024-04-02T14:22:41.924597Z",
          "iopub.status.busy": "2024-04-02T14:22:41.923950Z",
          "iopub.status.idle": "2024-04-02T14:22:41.986054Z",
          "shell.execute_reply": "2024-04-02T14:22:41.985208Z"
        },
        "papermill": {
          "duration": 0.091881,
          "end_time": "2024-04-02T14:22:41.988033",
          "exception": false,
          "start_time": "2024-04-02T14:22:41.896152",
          "status": "completed"
        },
        "tags": [],
        "id": "6996a387"
      },
      "outputs": [],
      "source": [
        "y_pred = rfc_optuna.predict(X_test)"
      ]
    },
    {
      "cell_type": "code",
      "execution_count": null,
      "id": "417d18d0",
      "metadata": {
        "execution": {
          "iopub.execute_input": "2024-04-02T14:22:42.039211Z",
          "iopub.status.busy": "2024-04-02T14:22:42.038947Z",
          "iopub.status.idle": "2024-04-02T14:22:42.051828Z",
          "shell.execute_reply": "2024-04-02T14:22:42.050729Z"
        },
        "papermill": {
          "duration": 0.040943,
          "end_time": "2024-04-02T14:22:42.053906",
          "exception": false,
          "start_time": "2024-04-02T14:22:42.012963",
          "status": "completed"
        },
        "tags": [],
        "id": "417d18d0",
        "outputId": "42979f23-72d4-4f65-9459-77153fb3f764"
      },
      "outputs": [
        {
          "name": "stdout",
          "output_type": "stream",
          "text": [
            "ROC AUC Score: 0.9692416296893909\n",
            "AUPRC Score: 0.9499361941222406\n",
            "F1 Score: 0.9650053022269353\n"
          ]
        }
      ],
      "source": [
        "roc_auc = roc_auc_score(y_test, y_pred)\n",
        "print(\"ROC AUC Score:\", roc_auc)\n",
        "\n",
        "auprc = average_precision_score(y_test, y_pred)\n",
        "print(\"AUPRC Score:\", auprc)\n",
        "\n",
        "f1 = f1_score(y_test, y_pred)\n",
        "print(\"F1 Score:\", f1)"
      ]
    },
    {
      "cell_type": "markdown",
      "id": "e3dafe5a",
      "metadata": {
        "papermill": {
          "duration": 0.026069,
          "end_time": "2024-04-02T14:22:42.108568",
          "exception": false,
          "start_time": "2024-04-02T14:22:42.082499",
          "status": "completed"
        },
        "tags": [],
        "id": "e3dafe5a"
      },
      "source": [
        "### **Support Vector Classification (SVC) using GridSearchCV**"
      ]
    },
    {
      "cell_type": "code",
      "execution_count": null,
      "id": "25d5584d",
      "metadata": {
        "execution": {
          "iopub.execute_input": "2024-04-02T14:22:42.160493Z",
          "iopub.status.busy": "2024-04-02T14:22:42.160198Z",
          "iopub.status.idle": "2024-04-02T14:22:42.164153Z",
          "shell.execute_reply": "2024-04-02T14:22:42.163346Z"
        },
        "papermill": {
          "duration": 0.031719,
          "end_time": "2024-04-02T14:22:42.166006",
          "exception": false,
          "start_time": "2024-04-02T14:22:42.134287",
          "status": "completed"
        },
        "tags": [],
        "id": "25d5584d"
      },
      "outputs": [],
      "source": [
        "svc = SVC(random_state=0)"
      ]
    },
    {
      "cell_type": "code",
      "execution_count": null,
      "id": "82bbcc7d",
      "metadata": {
        "execution": {
          "iopub.execute_input": "2024-04-02T14:22:42.217859Z",
          "iopub.status.busy": "2024-04-02T14:22:42.217589Z",
          "iopub.status.idle": "2024-04-02T14:22:42.221785Z",
          "shell.execute_reply": "2024-04-02T14:22:42.220975Z"
        },
        "papermill": {
          "duration": 0.032441,
          "end_time": "2024-04-02T14:22:42.223601",
          "exception": false,
          "start_time": "2024-04-02T14:22:42.191160",
          "status": "completed"
        },
        "tags": [],
        "id": "82bbcc7d"
      },
      "outputs": [],
      "source": [
        "param_grid_svc = {\n",
        "    'C': [0.01, 0.1, 1, 10, 100],\n",
        "    'gamma': ['scale', 'auto'],\n",
        "    'kernel': ['linear', 'rbf', 'poly','sigmoid']\n",
        "}"
      ]
    },
    {
      "cell_type": "code",
      "execution_count": null,
      "id": "433fc039",
      "metadata": {
        "execution": {
          "iopub.execute_input": "2024-04-02T14:22:42.278546Z",
          "iopub.status.busy": "2024-04-02T14:22:42.278226Z",
          "iopub.status.idle": "2024-04-02T14:22:42.282558Z",
          "shell.execute_reply": "2024-04-02T14:22:42.281686Z"
        },
        "papermill": {
          "duration": 0.032834,
          "end_time": "2024-04-02T14:22:42.284489",
          "exception": false,
          "start_time": "2024-04-02T14:22:42.251655",
          "status": "completed"
        },
        "tags": [],
        "id": "433fc039"
      },
      "outputs": [],
      "source": [
        "svc_cv = GridSearchCV(svc, param_grid_svc, cv=5, scoring='average_precision', n_jobs=-1)"
      ]
    },
    {
      "cell_type": "code",
      "execution_count": null,
      "id": "d0eb1cad",
      "metadata": {
        "execution": {
          "iopub.execute_input": "2024-04-02T14:22:42.337546Z",
          "iopub.status.busy": "2024-04-02T14:22:42.337238Z",
          "iopub.status.idle": "2024-04-02T14:24:31.408106Z",
          "shell.execute_reply": "2024-04-02T14:24:31.407098Z"
        },
        "papermill": {
          "duration": 109.128397,
          "end_time": "2024-04-02T14:24:31.438656",
          "exception": false,
          "start_time": "2024-04-02T14:22:42.310259",
          "status": "completed"
        },
        "tags": [],
        "id": "d0eb1cad",
        "outputId": "7f40ecb5-e74b-47cc-d5e3-880830be8d35"
      },
      "outputs": [
        {
          "name": "stdout",
          "output_type": "stream",
          "text": [
            "CPU times: user 1.14 s, sys: 160 ms, total: 1.3 s\n",
            "Wall time: 1min 49s\n"
          ]
        },
        {
          "data": {
            "text/html": [
              "<style>#sk-container-id-5 {color: black;background-color: white;}#sk-container-id-5 pre{padding: 0;}#sk-container-id-5 div.sk-toggleable {background-color: white;}#sk-container-id-5 label.sk-toggleable__label {cursor: pointer;display: block;width: 100%;margin-bottom: 0;padding: 0.3em;box-sizing: border-box;text-align: center;}#sk-container-id-5 label.sk-toggleable__label-arrow:before {content: \"▸\";float: left;margin-right: 0.25em;color: #696969;}#sk-container-id-5 label.sk-toggleable__label-arrow:hover:before {color: black;}#sk-container-id-5 div.sk-estimator:hover label.sk-toggleable__label-arrow:before {color: black;}#sk-container-id-5 div.sk-toggleable__content {max-height: 0;max-width: 0;overflow: hidden;text-align: left;background-color: #f0f8ff;}#sk-container-id-5 div.sk-toggleable__content pre {margin: 0.2em;color: black;border-radius: 0.25em;background-color: #f0f8ff;}#sk-container-id-5 input.sk-toggleable__control:checked~div.sk-toggleable__content {max-height: 200px;max-width: 100%;overflow: auto;}#sk-container-id-5 input.sk-toggleable__control:checked~label.sk-toggleable__label-arrow:before {content: \"▾\";}#sk-container-id-5 div.sk-estimator input.sk-toggleable__control:checked~label.sk-toggleable__label {background-color: #d4ebff;}#sk-container-id-5 div.sk-label input.sk-toggleable__control:checked~label.sk-toggleable__label {background-color: #d4ebff;}#sk-container-id-5 input.sk-hidden--visually {border: 0;clip: rect(1px 1px 1px 1px);clip: rect(1px, 1px, 1px, 1px);height: 1px;margin: -1px;overflow: hidden;padding: 0;position: absolute;width: 1px;}#sk-container-id-5 div.sk-estimator {font-family: monospace;background-color: #f0f8ff;border: 1px dotted black;border-radius: 0.25em;box-sizing: border-box;margin-bottom: 0.5em;}#sk-container-id-5 div.sk-estimator:hover {background-color: #d4ebff;}#sk-container-id-5 div.sk-parallel-item::after {content: \"\";width: 100%;border-bottom: 1px solid gray;flex-grow: 1;}#sk-container-id-5 div.sk-label:hover label.sk-toggleable__label {background-color: #d4ebff;}#sk-container-id-5 div.sk-serial::before {content: \"\";position: absolute;border-left: 1px solid gray;box-sizing: border-box;top: 0;bottom: 0;left: 50%;z-index: 0;}#sk-container-id-5 div.sk-serial {display: flex;flex-direction: column;align-items: center;background-color: white;padding-right: 0.2em;padding-left: 0.2em;position: relative;}#sk-container-id-5 div.sk-item {position: relative;z-index: 1;}#sk-container-id-5 div.sk-parallel {display: flex;align-items: stretch;justify-content: center;background-color: white;position: relative;}#sk-container-id-5 div.sk-item::before, #sk-container-id-5 div.sk-parallel-item::before {content: \"\";position: absolute;border-left: 1px solid gray;box-sizing: border-box;top: 0;bottom: 0;left: 50%;z-index: -1;}#sk-container-id-5 div.sk-parallel-item {display: flex;flex-direction: column;z-index: 1;position: relative;background-color: white;}#sk-container-id-5 div.sk-parallel-item:first-child::after {align-self: flex-end;width: 50%;}#sk-container-id-5 div.sk-parallel-item:last-child::after {align-self: flex-start;width: 50%;}#sk-container-id-5 div.sk-parallel-item:only-child::after {width: 0;}#sk-container-id-5 div.sk-dashed-wrapped {border: 1px dashed gray;margin: 0 0.4em 0.5em 0.4em;box-sizing: border-box;padding-bottom: 0.4em;background-color: white;}#sk-container-id-5 div.sk-label label {font-family: monospace;font-weight: bold;display: inline-block;line-height: 1.2em;}#sk-container-id-5 div.sk-label-container {text-align: center;}#sk-container-id-5 div.sk-container {/* jupyter's `normalize.less` sets `[hidden] { display: none; }` but bootstrap.min.css set `[hidden] { display: none !important; }` so we also need the `!important` here to be able to override the default hidden behavior on the sphinx rendered scikit-learn.org. See: https://github.com/scikit-learn/scikit-learn/issues/21755 */display: inline-block !important;position: relative;}#sk-container-id-5 div.sk-text-repr-fallback {display: none;}</style><div id=\"sk-container-id-5\" class=\"sk-top-container\"><div class=\"sk-text-repr-fallback\"><pre>GridSearchCV(cv=5, estimator=SVC(random_state=0), n_jobs=-1,\n",
              "             param_grid={&#x27;C&#x27;: [0.01, 0.1, 1, 10, 100],\n",
              "                         &#x27;gamma&#x27;: [&#x27;scale&#x27;, &#x27;auto&#x27;],\n",
              "                         &#x27;kernel&#x27;: [&#x27;linear&#x27;, &#x27;rbf&#x27;, &#x27;poly&#x27;, &#x27;sigmoid&#x27;]},\n",
              "             scoring=&#x27;average_precision&#x27;)</pre><b>In a Jupyter environment, please rerun this cell to show the HTML representation or trust the notebook. <br />On GitHub, the HTML representation is unable to render, please try loading this page with nbviewer.org.</b></div><div class=\"sk-container\" hidden><div class=\"sk-item sk-dashed-wrapped\"><div class=\"sk-label-container\"><div class=\"sk-label sk-toggleable\"><input class=\"sk-toggleable__control sk-hidden--visually\" id=\"sk-estimator-id-9\" type=\"checkbox\" ><label for=\"sk-estimator-id-9\" class=\"sk-toggleable__label sk-toggleable__label-arrow\">GridSearchCV</label><div class=\"sk-toggleable__content\"><pre>GridSearchCV(cv=5, estimator=SVC(random_state=0), n_jobs=-1,\n",
              "             param_grid={&#x27;C&#x27;: [0.01, 0.1, 1, 10, 100],\n",
              "                         &#x27;gamma&#x27;: [&#x27;scale&#x27;, &#x27;auto&#x27;],\n",
              "                         &#x27;kernel&#x27;: [&#x27;linear&#x27;, &#x27;rbf&#x27;, &#x27;poly&#x27;, &#x27;sigmoid&#x27;]},\n",
              "             scoring=&#x27;average_precision&#x27;)</pre></div></div></div><div class=\"sk-parallel\"><div class=\"sk-parallel-item\"><div class=\"sk-item\"><div class=\"sk-label-container\"><div class=\"sk-label sk-toggleable\"><input class=\"sk-toggleable__control sk-hidden--visually\" id=\"sk-estimator-id-10\" type=\"checkbox\" ><label for=\"sk-estimator-id-10\" class=\"sk-toggleable__label sk-toggleable__label-arrow\">estimator: SVC</label><div class=\"sk-toggleable__content\"><pre>SVC(random_state=0)</pre></div></div></div><div class=\"sk-serial\"><div class=\"sk-item\"><div class=\"sk-estimator sk-toggleable\"><input class=\"sk-toggleable__control sk-hidden--visually\" id=\"sk-estimator-id-11\" type=\"checkbox\" ><label for=\"sk-estimator-id-11\" class=\"sk-toggleable__label sk-toggleable__label-arrow\">SVC</label><div class=\"sk-toggleable__content\"><pre>SVC(random_state=0)</pre></div></div></div></div></div></div></div></div></div></div>"
            ],
            "text/plain": [
              "GridSearchCV(cv=5, estimator=SVC(random_state=0), n_jobs=-1,\n",
              "             param_grid={'C': [0.01, 0.1, 1, 10, 100],\n",
              "                         'gamma': ['scale', 'auto'],\n",
              "                         'kernel': ['linear', 'rbf', 'poly', 'sigmoid']},\n",
              "             scoring='average_precision')"
            ]
          },
          "execution_count": 42,
          "metadata": {},
          "output_type": "execute_result"
        }
      ],
      "source": [
        "%%time\n",
        "svc_cv.fit(X_train, y_train)"
      ]
    },
    {
      "cell_type": "code",
      "execution_count": null,
      "id": "a4846303",
      "metadata": {
        "execution": {
          "iopub.execute_input": "2024-04-02T14:24:31.491987Z",
          "iopub.status.busy": "2024-04-02T14:24:31.491681Z",
          "iopub.status.idle": "2024-04-02T14:24:31.560950Z",
          "shell.execute_reply": "2024-04-02T14:24:31.560225Z"
        },
        "papermill": {
          "duration": 0.098408,
          "end_time": "2024-04-02T14:24:31.562974",
          "exception": false,
          "start_time": "2024-04-02T14:24:31.464566",
          "status": "completed"
        },
        "tags": [],
        "id": "a4846303"
      },
      "outputs": [],
      "source": [
        "y_pred = svc_cv.predict(X_test)"
      ]
    },
    {
      "cell_type": "code",
      "execution_count": null,
      "id": "7e33682e",
      "metadata": {
        "execution": {
          "iopub.execute_input": "2024-04-02T14:24:31.617555Z",
          "iopub.status.busy": "2024-04-02T14:24:31.617240Z",
          "iopub.status.idle": "2024-04-02T14:24:31.629725Z",
          "shell.execute_reply": "2024-04-02T14:24:31.628749Z"
        },
        "papermill": {
          "duration": 0.041078,
          "end_time": "2024-04-02T14:24:31.631685",
          "exception": false,
          "start_time": "2024-04-02T14:24:31.590607",
          "status": "completed"
        },
        "tags": [],
        "id": "7e33682e",
        "outputId": "5d9cb467-21fe-4a89-ed0b-197d9636e4c9"
      },
      "outputs": [
        {
          "name": "stdout",
          "output_type": "stream",
          "text": [
            "ROC AUC Score: 0.9695353053562009\n",
            "AUPRC Score: 0.9291950866483843\n",
            "F1 Score: 0.957688338493292\n"
          ]
        }
      ],
      "source": [
        "roc_auc = roc_auc_score(y_test, y_pred)\n",
        "print(\"ROC AUC Score:\", roc_auc)\n",
        "\n",
        "auprc = average_precision_score(y_test, y_pred)\n",
        "print(\"AUPRC Score:\", auprc)\n",
        "\n",
        "f1 = f1_score(y_test, y_pred)\n",
        "print(\"F1 Score:\", f1)"
      ]
    },
    {
      "cell_type": "markdown",
      "id": "299070c8",
      "metadata": {
        "papermill": {
          "duration": 0.025825,
          "end_time": "2024-04-02T14:24:31.683581",
          "exception": false,
          "start_time": "2024-04-02T14:24:31.657756",
          "status": "completed"
        },
        "tags": [],
        "id": "299070c8"
      },
      "source": [
        "### **Support Vector Classification (SVC) using Optuna**"
      ]
    },
    {
      "cell_type": "code",
      "execution_count": null,
      "id": "1bbcae3c",
      "metadata": {
        "execution": {
          "iopub.execute_input": "2024-04-02T14:24:31.737066Z",
          "iopub.status.busy": "2024-04-02T14:24:31.736780Z",
          "iopub.status.idle": "2024-04-02T14:24:31.742768Z",
          "shell.execute_reply": "2024-04-02T14:24:31.741960Z"
        },
        "papermill": {
          "duration": 0.034995,
          "end_time": "2024-04-02T14:24:31.744583",
          "exception": false,
          "start_time": "2024-04-02T14:24:31.709588",
          "status": "completed"
        },
        "tags": [],
        "id": "1bbcae3c"
      },
      "outputs": [],
      "source": [
        "def objective(trial):\n",
        "    # Hyperparameters to be optimized\n",
        "    C = trial.suggest_float(\"C\", 0.01, 100)\n",
        "    gamma = trial.suggest_categorical(\"gamma\", ['scale', 'auto'])\n",
        "    kernel = trial.suggest_categorical(\"kernel\", ['linear', 'poly', 'rbf', 'sigmoid'])\n",
        "\n",
        "    # Constructing SVC with sampled hyperparameters\n",
        "    params = {\n",
        "             \"C\": C,\n",
        "             \"gamma\": gamma,\n",
        "             \"kernel\": kernel,\n",
        "    }\n",
        "\n",
        "    model = SVC(random_state=0, **params)\n",
        "\n",
        "    # Cross-validation using average precision as scoring metric\n",
        "    score = cross_val_score(model, X_train, y_train, scoring='average_precision', cv=5)\n",
        "    return score.mean()"
      ]
    },
    {
      "cell_type": "code",
      "execution_count": null,
      "id": "0318bf02",
      "metadata": {
        "execution": {
          "iopub.execute_input": "2024-04-02T14:24:31.800450Z",
          "iopub.status.busy": "2024-04-02T14:24:31.800111Z",
          "iopub.status.idle": "2024-04-02T14:27:13.150684Z",
          "shell.execute_reply": "2024-04-02T14:27:13.149767Z"
        },
        "papermill": {
          "duration": 161.3821,
          "end_time": "2024-04-02T14:27:13.153998",
          "exception": false,
          "start_time": "2024-04-02T14:24:31.771898",
          "status": "completed"
        },
        "scrolled": true,
        "tags": [],
        "colab": {
          "referenced_widgets": [
            "20abfa669c6041968b4a8062ea5ae460"
          ]
        },
        "id": "0318bf02",
        "outputId": "cefe7dd8-98bc-4420-f475-8d60c3cacef5"
      },
      "outputs": [
        {
          "data": {
            "application/vnd.jupyter.widget-view+json": {
              "model_id": "20abfa669c6041968b4a8062ea5ae460",
              "version_major": 2,
              "version_minor": 0
            },
            "text/plain": [
              "  0%|          | 0/100 [00:00<?, ?it/s]"
            ]
          },
          "metadata": {},
          "output_type": "display_data"
        },
        {
          "name": "stdout",
          "output_type": "stream",
          "text": [
            "CPU times: user 10min 20s, sys: 621 ms, total: 10min 20s\n",
            "Wall time: 2min 41s\n"
          ]
        }
      ],
      "source": [
        "%%time\n",
        "# Create study object\n",
        "study = optuna.create_study(direction=\"maximize\")\n",
        "\n",
        "# Run optimization process\n",
        "study.optimize(objective, n_trials=100, show_progress_bar=True, n_jobs=-1)"
      ]
    },
    {
      "cell_type": "code",
      "execution_count": null,
      "id": "01b66d22",
      "metadata": {
        "execution": {
          "iopub.execute_input": "2024-04-02T14:27:13.209926Z",
          "iopub.status.busy": "2024-04-02T14:27:13.209637Z",
          "iopub.status.idle": "2024-04-02T14:27:13.590097Z",
          "shell.execute_reply": "2024-04-02T14:27:13.589189Z"
        },
        "papermill": {
          "duration": 0.409748,
          "end_time": "2024-04-02T14:27:13.592326",
          "exception": false,
          "start_time": "2024-04-02T14:27:13.182578",
          "status": "completed"
        },
        "tags": [],
        "id": "01b66d22",
        "outputId": "309cfe3a-3d31-45e8-fbc2-2425dbeecc13"
      },
      "outputs": [
        {
          "data": {
            "text/html": [
              "<style>#sk-container-id-6 {color: black;background-color: white;}#sk-container-id-6 pre{padding: 0;}#sk-container-id-6 div.sk-toggleable {background-color: white;}#sk-container-id-6 label.sk-toggleable__label {cursor: pointer;display: block;width: 100%;margin-bottom: 0;padding: 0.3em;box-sizing: border-box;text-align: center;}#sk-container-id-6 label.sk-toggleable__label-arrow:before {content: \"▸\";float: left;margin-right: 0.25em;color: #696969;}#sk-container-id-6 label.sk-toggleable__label-arrow:hover:before {color: black;}#sk-container-id-6 div.sk-estimator:hover label.sk-toggleable__label-arrow:before {color: black;}#sk-container-id-6 div.sk-toggleable__content {max-height: 0;max-width: 0;overflow: hidden;text-align: left;background-color: #f0f8ff;}#sk-container-id-6 div.sk-toggleable__content pre {margin: 0.2em;color: black;border-radius: 0.25em;background-color: #f0f8ff;}#sk-container-id-6 input.sk-toggleable__control:checked~div.sk-toggleable__content {max-height: 200px;max-width: 100%;overflow: auto;}#sk-container-id-6 input.sk-toggleable__control:checked~label.sk-toggleable__label-arrow:before {content: \"▾\";}#sk-container-id-6 div.sk-estimator input.sk-toggleable__control:checked~label.sk-toggleable__label {background-color: #d4ebff;}#sk-container-id-6 div.sk-label input.sk-toggleable__control:checked~label.sk-toggleable__label {background-color: #d4ebff;}#sk-container-id-6 input.sk-hidden--visually {border: 0;clip: rect(1px 1px 1px 1px);clip: rect(1px, 1px, 1px, 1px);height: 1px;margin: -1px;overflow: hidden;padding: 0;position: absolute;width: 1px;}#sk-container-id-6 div.sk-estimator {font-family: monospace;background-color: #f0f8ff;border: 1px dotted black;border-radius: 0.25em;box-sizing: border-box;margin-bottom: 0.5em;}#sk-container-id-6 div.sk-estimator:hover {background-color: #d4ebff;}#sk-container-id-6 div.sk-parallel-item::after {content: \"\";width: 100%;border-bottom: 1px solid gray;flex-grow: 1;}#sk-container-id-6 div.sk-label:hover label.sk-toggleable__label {background-color: #d4ebff;}#sk-container-id-6 div.sk-serial::before {content: \"\";position: absolute;border-left: 1px solid gray;box-sizing: border-box;top: 0;bottom: 0;left: 50%;z-index: 0;}#sk-container-id-6 div.sk-serial {display: flex;flex-direction: column;align-items: center;background-color: white;padding-right: 0.2em;padding-left: 0.2em;position: relative;}#sk-container-id-6 div.sk-item {position: relative;z-index: 1;}#sk-container-id-6 div.sk-parallel {display: flex;align-items: stretch;justify-content: center;background-color: white;position: relative;}#sk-container-id-6 div.sk-item::before, #sk-container-id-6 div.sk-parallel-item::before {content: \"\";position: absolute;border-left: 1px solid gray;box-sizing: border-box;top: 0;bottom: 0;left: 50%;z-index: -1;}#sk-container-id-6 div.sk-parallel-item {display: flex;flex-direction: column;z-index: 1;position: relative;background-color: white;}#sk-container-id-6 div.sk-parallel-item:first-child::after {align-self: flex-end;width: 50%;}#sk-container-id-6 div.sk-parallel-item:last-child::after {align-self: flex-start;width: 50%;}#sk-container-id-6 div.sk-parallel-item:only-child::after {width: 0;}#sk-container-id-6 div.sk-dashed-wrapped {border: 1px dashed gray;margin: 0 0.4em 0.5em 0.4em;box-sizing: border-box;padding-bottom: 0.4em;background-color: white;}#sk-container-id-6 div.sk-label label {font-family: monospace;font-weight: bold;display: inline-block;line-height: 1.2em;}#sk-container-id-6 div.sk-label-container {text-align: center;}#sk-container-id-6 div.sk-container {/* jupyter's `normalize.less` sets `[hidden] { display: none; }` but bootstrap.min.css set `[hidden] { display: none !important; }` so we also need the `!important` here to be able to override the default hidden behavior on the sphinx rendered scikit-learn.org. See: https://github.com/scikit-learn/scikit-learn/issues/21755 */display: inline-block !important;position: relative;}#sk-container-id-6 div.sk-text-repr-fallback {display: none;}</style><div id=\"sk-container-id-6\" class=\"sk-top-container\"><div class=\"sk-text-repr-fallback\"><pre>SVC(C=4.471797379956382, gamma=&#x27;auto&#x27;, random_state=0)</pre><b>In a Jupyter environment, please rerun this cell to show the HTML representation or trust the notebook. <br />On GitHub, the HTML representation is unable to render, please try loading this page with nbviewer.org.</b></div><div class=\"sk-container\" hidden><div class=\"sk-item\"><div class=\"sk-estimator sk-toggleable\"><input class=\"sk-toggleable__control sk-hidden--visually\" id=\"sk-estimator-id-12\" type=\"checkbox\" checked><label for=\"sk-estimator-id-12\" class=\"sk-toggleable__label sk-toggleable__label-arrow\">SVC</label><div class=\"sk-toggleable__content\"><pre>SVC(C=4.471797379956382, gamma=&#x27;auto&#x27;, random_state=0)</pre></div></div></div></div></div>"
            ],
            "text/plain": [
              "SVC(C=4.471797379956382, gamma='auto', random_state=0)"
            ]
          },
          "execution_count": 47,
          "metadata": {},
          "output_type": "execute_result"
        }
      ],
      "source": [
        "svc_optuna = SVC(random_state=0, **study.best_params)\n",
        "svc_optuna.fit(X_train, y_train)"
      ]
    },
    {
      "cell_type": "code",
      "execution_count": null,
      "id": "313cfc2b",
      "metadata": {
        "execution": {
          "iopub.execute_input": "2024-04-02T14:27:13.647871Z",
          "iopub.status.busy": "2024-04-02T14:27:13.647544Z",
          "iopub.status.idle": "2024-04-02T14:27:13.717232Z",
          "shell.execute_reply": "2024-04-02T14:27:13.716463Z"
        },
        "papermill": {
          "duration": 0.099642,
          "end_time": "2024-04-02T14:27:13.719463",
          "exception": false,
          "start_time": "2024-04-02T14:27:13.619821",
          "status": "completed"
        },
        "tags": [],
        "id": "313cfc2b"
      },
      "outputs": [],
      "source": [
        "y_pred = svc_optuna.predict(X_test)"
      ]
    },
    {
      "cell_type": "code",
      "execution_count": null,
      "id": "2656bb1a",
      "metadata": {
        "execution": {
          "iopub.execute_input": "2024-04-02T14:27:13.774767Z",
          "iopub.status.busy": "2024-04-02T14:27:13.774458Z",
          "iopub.status.idle": "2024-04-02T14:27:13.786117Z",
          "shell.execute_reply": "2024-04-02T14:27:13.785170Z"
        },
        "papermill": {
          "duration": 0.040839,
          "end_time": "2024-04-02T14:27:13.787950",
          "exception": false,
          "start_time": "2024-04-02T14:27:13.747111",
          "status": "completed"
        },
        "tags": [],
        "id": "2656bb1a",
        "outputId": "73c8cee7-cd6b-4925-d88c-51a9876db777"
      },
      "outputs": [
        {
          "name": "stdout",
          "output_type": "stream",
          "text": [
            "ROC AUC Score: 0.9602063930422139\n",
            "AUPRC Score: 0.9192703255630753\n",
            "F1 Score: 0.9487983281086729\n"
          ]
        }
      ],
      "source": [
        "roc_auc = roc_auc_score(y_test, y_pred)\n",
        "print(\"ROC AUC Score:\", roc_auc)\n",
        "\n",
        "auprc = average_precision_score(y_test, y_pred)\n",
        "print(\"AUPRC Score:\", auprc)\n",
        "\n",
        "f1 = f1_score(y_test, y_pred)\n",
        "print(\"F1 Score:\", f1)"
      ]
    },
    {
      "cell_type": "markdown",
      "id": "67261c34",
      "metadata": {
        "papermill": {
          "duration": 0.026486,
          "end_time": "2024-04-02T14:27:13.841642",
          "exception": false,
          "start_time": "2024-04-02T14:27:13.815156",
          "status": "completed"
        },
        "tags": [],
        "id": "67261c34"
      },
      "source": [
        "### **KNeighborsClassifier (KNN) using GridSearchCV**"
      ]
    },
    {
      "cell_type": "code",
      "execution_count": null,
      "id": "4e706702",
      "metadata": {
        "execution": {
          "iopub.execute_input": "2024-04-02T14:27:13.899607Z",
          "iopub.status.busy": "2024-04-02T14:27:13.899009Z",
          "iopub.status.idle": "2024-04-02T14:27:13.903365Z",
          "shell.execute_reply": "2024-04-02T14:27:13.902444Z"
        },
        "papermill": {
          "duration": 0.035055,
          "end_time": "2024-04-02T14:27:13.905453",
          "exception": false,
          "start_time": "2024-04-02T14:27:13.870398",
          "status": "completed"
        },
        "tags": [],
        "id": "4e706702"
      },
      "outputs": [],
      "source": [
        "from sklearn.neighbors import KNeighborsClassifier"
      ]
    },
    {
      "cell_type": "code",
      "execution_count": null,
      "id": "4f3ae43f",
      "metadata": {
        "execution": {
          "iopub.execute_input": "2024-04-02T14:27:13.962984Z",
          "iopub.status.busy": "2024-04-02T14:27:13.962284Z",
          "iopub.status.idle": "2024-04-02T14:27:13.966307Z",
          "shell.execute_reply": "2024-04-02T14:27:13.965490Z"
        },
        "papermill": {
          "duration": 0.033769,
          "end_time": "2024-04-02T14:27:13.968131",
          "exception": false,
          "start_time": "2024-04-02T14:27:13.934362",
          "status": "completed"
        },
        "tags": [],
        "id": "4f3ae43f"
      },
      "outputs": [],
      "source": [
        "knn = KNeighborsClassifier()"
      ]
    },
    {
      "cell_type": "code",
      "execution_count": null,
      "id": "8567e304",
      "metadata": {
        "execution": {
          "iopub.execute_input": "2024-04-02T14:27:14.022782Z",
          "iopub.status.busy": "2024-04-02T14:27:14.022472Z",
          "iopub.status.idle": "2024-04-02T14:27:14.027062Z",
          "shell.execute_reply": "2024-04-02T14:27:14.026236Z"
        },
        "papermill": {
          "duration": 0.033967,
          "end_time": "2024-04-02T14:27:14.028971",
          "exception": false,
          "start_time": "2024-04-02T14:27:13.995004",
          "status": "completed"
        },
        "tags": [],
        "id": "8567e304"
      },
      "outputs": [],
      "source": [
        "# Define the grid of hyperparameters for KNeighborsClassifier\n",
        "param_grid_knn = {\n",
        "    'n_neighbors': range(1, 31),\n",
        "    'leaf_size': range(1, 31),\n",
        "    'weights': ['uniform', 'distance'],\n",
        "    'metric': ['euclidean', 'manhattan', 'minkowski'],\n",
        "}"
      ]
    },
    {
      "cell_type": "code",
      "execution_count": null,
      "id": "3102a054",
      "metadata": {
        "execution": {
          "iopub.execute_input": "2024-04-02T14:27:14.083494Z",
          "iopub.status.busy": "2024-04-02T14:27:14.083201Z",
          "iopub.status.idle": "2024-04-02T14:27:14.087226Z",
          "shell.execute_reply": "2024-04-02T14:27:14.086439Z"
        },
        "papermill": {
          "duration": 0.033065,
          "end_time": "2024-04-02T14:27:14.089035",
          "exception": false,
          "start_time": "2024-04-02T14:27:14.055970",
          "status": "completed"
        },
        "tags": [],
        "id": "3102a054"
      },
      "outputs": [],
      "source": [
        "knn_cv = GridSearchCV(knn, param_grid_knn, cv=5, scoring='average_precision', n_jobs=-1)"
      ]
    },
    {
      "cell_type": "code",
      "execution_count": null,
      "id": "e8ee55eb",
      "metadata": {
        "execution": {
          "iopub.execute_input": "2024-04-02T14:27:14.143402Z",
          "iopub.status.busy": "2024-04-02T14:27:14.143136Z",
          "iopub.status.idle": "2024-04-02T14:42:29.952769Z",
          "shell.execute_reply": "2024-04-02T14:42:29.951726Z"
        },
        "papermill": {
          "duration": 915.867193,
          "end_time": "2024-04-02T14:42:29.983103",
          "exception": false,
          "start_time": "2024-04-02T14:27:14.115910",
          "status": "completed"
        },
        "scrolled": true,
        "tags": [],
        "id": "e8ee55eb",
        "outputId": "030323ba-a502-42a8-c91a-70ff86388432"
      },
      "outputs": [
        {
          "name": "stdout",
          "output_type": "stream",
          "text": [
            "CPU times: user 44.8 s, sys: 4.73 s, total: 49.5 s\n",
            "Wall time: 15min 15s\n"
          ]
        },
        {
          "data": {
            "text/html": [
              "<style>#sk-container-id-7 {color: black;background-color: white;}#sk-container-id-7 pre{padding: 0;}#sk-container-id-7 div.sk-toggleable {background-color: white;}#sk-container-id-7 label.sk-toggleable__label {cursor: pointer;display: block;width: 100%;margin-bottom: 0;padding: 0.3em;box-sizing: border-box;text-align: center;}#sk-container-id-7 label.sk-toggleable__label-arrow:before {content: \"▸\";float: left;margin-right: 0.25em;color: #696969;}#sk-container-id-7 label.sk-toggleable__label-arrow:hover:before {color: black;}#sk-container-id-7 div.sk-estimator:hover label.sk-toggleable__label-arrow:before {color: black;}#sk-container-id-7 div.sk-toggleable__content {max-height: 0;max-width: 0;overflow: hidden;text-align: left;background-color: #f0f8ff;}#sk-container-id-7 div.sk-toggleable__content pre {margin: 0.2em;color: black;border-radius: 0.25em;background-color: #f0f8ff;}#sk-container-id-7 input.sk-toggleable__control:checked~div.sk-toggleable__content {max-height: 200px;max-width: 100%;overflow: auto;}#sk-container-id-7 input.sk-toggleable__control:checked~label.sk-toggleable__label-arrow:before {content: \"▾\";}#sk-container-id-7 div.sk-estimator input.sk-toggleable__control:checked~label.sk-toggleable__label {background-color: #d4ebff;}#sk-container-id-7 div.sk-label input.sk-toggleable__control:checked~label.sk-toggleable__label {background-color: #d4ebff;}#sk-container-id-7 input.sk-hidden--visually {border: 0;clip: rect(1px 1px 1px 1px);clip: rect(1px, 1px, 1px, 1px);height: 1px;margin: -1px;overflow: hidden;padding: 0;position: absolute;width: 1px;}#sk-container-id-7 div.sk-estimator {font-family: monospace;background-color: #f0f8ff;border: 1px dotted black;border-radius: 0.25em;box-sizing: border-box;margin-bottom: 0.5em;}#sk-container-id-7 div.sk-estimator:hover {background-color: #d4ebff;}#sk-container-id-7 div.sk-parallel-item::after {content: \"\";width: 100%;border-bottom: 1px solid gray;flex-grow: 1;}#sk-container-id-7 div.sk-label:hover label.sk-toggleable__label {background-color: #d4ebff;}#sk-container-id-7 div.sk-serial::before {content: \"\";position: absolute;border-left: 1px solid gray;box-sizing: border-box;top: 0;bottom: 0;left: 50%;z-index: 0;}#sk-container-id-7 div.sk-serial {display: flex;flex-direction: column;align-items: center;background-color: white;padding-right: 0.2em;padding-left: 0.2em;position: relative;}#sk-container-id-7 div.sk-item {position: relative;z-index: 1;}#sk-container-id-7 div.sk-parallel {display: flex;align-items: stretch;justify-content: center;background-color: white;position: relative;}#sk-container-id-7 div.sk-item::before, #sk-container-id-7 div.sk-parallel-item::before {content: \"\";position: absolute;border-left: 1px solid gray;box-sizing: border-box;top: 0;bottom: 0;left: 50%;z-index: -1;}#sk-container-id-7 div.sk-parallel-item {display: flex;flex-direction: column;z-index: 1;position: relative;background-color: white;}#sk-container-id-7 div.sk-parallel-item:first-child::after {align-self: flex-end;width: 50%;}#sk-container-id-7 div.sk-parallel-item:last-child::after {align-self: flex-start;width: 50%;}#sk-container-id-7 div.sk-parallel-item:only-child::after {width: 0;}#sk-container-id-7 div.sk-dashed-wrapped {border: 1px dashed gray;margin: 0 0.4em 0.5em 0.4em;box-sizing: border-box;padding-bottom: 0.4em;background-color: white;}#sk-container-id-7 div.sk-label label {font-family: monospace;font-weight: bold;display: inline-block;line-height: 1.2em;}#sk-container-id-7 div.sk-label-container {text-align: center;}#sk-container-id-7 div.sk-container {/* jupyter's `normalize.less` sets `[hidden] { display: none; }` but bootstrap.min.css set `[hidden] { display: none !important; }` so we also need the `!important` here to be able to override the default hidden behavior on the sphinx rendered scikit-learn.org. See: https://github.com/scikit-learn/scikit-learn/issues/21755 */display: inline-block !important;position: relative;}#sk-container-id-7 div.sk-text-repr-fallback {display: none;}</style><div id=\"sk-container-id-7\" class=\"sk-top-container\"><div class=\"sk-text-repr-fallback\"><pre>GridSearchCV(cv=5, estimator=KNeighborsClassifier(), n_jobs=-1,\n",
              "             param_grid={&#x27;leaf_size&#x27;: range(1, 31),\n",
              "                         &#x27;metric&#x27;: [&#x27;euclidean&#x27;, &#x27;manhattan&#x27;, &#x27;minkowski&#x27;],\n",
              "                         &#x27;n_neighbors&#x27;: range(1, 31),\n",
              "                         &#x27;weights&#x27;: [&#x27;uniform&#x27;, &#x27;distance&#x27;]},\n",
              "             scoring=&#x27;average_precision&#x27;)</pre><b>In a Jupyter environment, please rerun this cell to show the HTML representation or trust the notebook. <br />On GitHub, the HTML representation is unable to render, please try loading this page with nbviewer.org.</b></div><div class=\"sk-container\" hidden><div class=\"sk-item sk-dashed-wrapped\"><div class=\"sk-label-container\"><div class=\"sk-label sk-toggleable\"><input class=\"sk-toggleable__control sk-hidden--visually\" id=\"sk-estimator-id-13\" type=\"checkbox\" ><label for=\"sk-estimator-id-13\" class=\"sk-toggleable__label sk-toggleable__label-arrow\">GridSearchCV</label><div class=\"sk-toggleable__content\"><pre>GridSearchCV(cv=5, estimator=KNeighborsClassifier(), n_jobs=-1,\n",
              "             param_grid={&#x27;leaf_size&#x27;: range(1, 31),\n",
              "                         &#x27;metric&#x27;: [&#x27;euclidean&#x27;, &#x27;manhattan&#x27;, &#x27;minkowski&#x27;],\n",
              "                         &#x27;n_neighbors&#x27;: range(1, 31),\n",
              "                         &#x27;weights&#x27;: [&#x27;uniform&#x27;, &#x27;distance&#x27;]},\n",
              "             scoring=&#x27;average_precision&#x27;)</pre></div></div></div><div class=\"sk-parallel\"><div class=\"sk-parallel-item\"><div class=\"sk-item\"><div class=\"sk-label-container\"><div class=\"sk-label sk-toggleable\"><input class=\"sk-toggleable__control sk-hidden--visually\" id=\"sk-estimator-id-14\" type=\"checkbox\" ><label for=\"sk-estimator-id-14\" class=\"sk-toggleable__label sk-toggleable__label-arrow\">estimator: KNeighborsClassifier</label><div class=\"sk-toggleable__content\"><pre>KNeighborsClassifier()</pre></div></div></div><div class=\"sk-serial\"><div class=\"sk-item\"><div class=\"sk-estimator sk-toggleable\"><input class=\"sk-toggleable__control sk-hidden--visually\" id=\"sk-estimator-id-15\" type=\"checkbox\" ><label for=\"sk-estimator-id-15\" class=\"sk-toggleable__label sk-toggleable__label-arrow\">KNeighborsClassifier</label><div class=\"sk-toggleable__content\"><pre>KNeighborsClassifier()</pre></div></div></div></div></div></div></div></div></div></div>"
            ],
            "text/plain": [
              "GridSearchCV(cv=5, estimator=KNeighborsClassifier(), n_jobs=-1,\n",
              "             param_grid={'leaf_size': range(1, 31),\n",
              "                         'metric': ['euclidean', 'manhattan', 'minkowski'],\n",
              "                         'n_neighbors': range(1, 31),\n",
              "                         'weights': ['uniform', 'distance']},\n",
              "             scoring='average_precision')"
            ]
          },
          "execution_count": 54,
          "metadata": {},
          "output_type": "execute_result"
        }
      ],
      "source": [
        "%%time\n",
        "knn_cv.fit(X_train, y_train)"
      ]
    },
    {
      "cell_type": "code",
      "execution_count": null,
      "id": "beaba573",
      "metadata": {
        "execution": {
          "iopub.execute_input": "2024-04-02T14:42:30.040636Z",
          "iopub.status.busy": "2024-04-02T14:42:30.040040Z",
          "iopub.status.idle": "2024-04-02T14:42:30.281247Z",
          "shell.execute_reply": "2024-04-02T14:42:30.280225Z"
        },
        "papermill": {
          "duration": 0.272428,
          "end_time": "2024-04-02T14:42:30.283621",
          "exception": false,
          "start_time": "2024-04-02T14:42:30.011193",
          "status": "completed"
        },
        "tags": [],
        "id": "beaba573"
      },
      "outputs": [],
      "source": [
        "y_pred = knn_cv.predict(X_test)"
      ]
    },
    {
      "cell_type": "code",
      "execution_count": null,
      "id": "faa1fdcf",
      "metadata": {
        "execution": {
          "iopub.execute_input": "2024-04-02T14:42:30.341082Z",
          "iopub.status.busy": "2024-04-02T14:42:30.340738Z",
          "iopub.status.idle": "2024-04-02T14:42:30.353411Z",
          "shell.execute_reply": "2024-04-02T14:42:30.352442Z"
        },
        "papermill": {
          "duration": 0.043492,
          "end_time": "2024-04-02T14:42:30.355417",
          "exception": false,
          "start_time": "2024-04-02T14:42:30.311925",
          "status": "completed"
        },
        "tags": [],
        "id": "faa1fdcf",
        "outputId": "e91878f0-55f1-465a-aa9b-c340505ba169"
      },
      "outputs": [
        {
          "name": "stdout",
          "output_type": "stream",
          "text": [
            "ROC AUC Score: 0.9597531351262695\n",
            "AUPRC Score: 0.9247123795424332\n",
            "F1 Score: 0.9504741833508957\n"
          ]
        }
      ],
      "source": [
        "roc_auc = roc_auc_score(y_test, y_pred)\n",
        "print(\"ROC AUC Score:\", roc_auc)\n",
        "\n",
        "auprc = average_precision_score(y_test, y_pred)\n",
        "print(\"AUPRC Score:\", auprc)\n",
        "\n",
        "f1 = f1_score(y_test, y_pred)\n",
        "print(\"F1 Score:\", f1)"
      ]
    },
    {
      "cell_type": "markdown",
      "id": "4f6507ac",
      "metadata": {
        "papermill": {
          "duration": 0.027512,
          "end_time": "2024-04-02T14:42:30.411658",
          "exception": false,
          "start_time": "2024-04-02T14:42:30.384146",
          "status": "completed"
        },
        "tags": [],
        "id": "4f6507ac"
      },
      "source": [
        "### **KNeighborsClassifier (KNN) using Optuna**"
      ]
    },
    {
      "cell_type": "code",
      "execution_count": null,
      "id": "2c3eb40c",
      "metadata": {
        "execution": {
          "iopub.execute_input": "2024-04-02T14:42:30.468772Z",
          "iopub.status.busy": "2024-04-02T14:42:30.467977Z",
          "iopub.status.idle": "2024-04-02T14:42:30.474231Z",
          "shell.execute_reply": "2024-04-02T14:42:30.473554Z"
        },
        "papermill": {
          "duration": 0.036911,
          "end_time": "2024-04-02T14:42:30.476111",
          "exception": false,
          "start_time": "2024-04-02T14:42:30.439200",
          "status": "completed"
        },
        "tags": [],
        "id": "2c3eb40c"
      },
      "outputs": [],
      "source": [
        "def objective(trial):\n",
        "    # Hyperparameters to be optimized\n",
        "    n_neighbors = trial.suggest_int(\"n_neighbors\", 1, 31)\n",
        "    leaf_size = trial.suggest_int(\"leaf_size\", 1, 31)\n",
        "    weights = trial.suggest_categorical(\"weights\", ['uniform', 'distance'])\n",
        "    metric = trial.suggest_categorical(\"metric\", ['euclidean', 'manhattan', 'minkowski'])\n",
        "\n",
        "    # Constructing KNeighborsClassifier with sampled hyperparameters\n",
        "    params = {\n",
        "             \"n_neighbors\": n_neighbors,\n",
        "             \"leaf_size\": leaf_size,\n",
        "             \"weights\": weights,\n",
        "             \"metric\": metric,\n",
        "             }\n",
        "\n",
        "    model = KNeighborsClassifier(**params)\n",
        "\n",
        "    # Cross-validation using average precision as scoring metric\n",
        "    score = cross_val_score(model, X_train, y_train, scoring='average_precision', cv=5)\n",
        "    return score.mean()"
      ]
    },
    {
      "cell_type": "code",
      "execution_count": null,
      "id": "1941fe9c",
      "metadata": {
        "execution": {
          "iopub.execute_input": "2024-04-02T14:42:30.531860Z",
          "iopub.status.busy": "2024-04-02T14:42:30.531597Z",
          "iopub.status.idle": "2024-04-02T14:42:47.255183Z",
          "shell.execute_reply": "2024-04-02T14:42:47.254468Z"
        },
        "papermill": {
          "duration": 16.754562,
          "end_time": "2024-04-02T14:42:47.257812",
          "exception": false,
          "start_time": "2024-04-02T14:42:30.503250",
          "status": "completed"
        },
        "scrolled": true,
        "tags": [],
        "colab": {
          "referenced_widgets": [
            "2eba2358e1c64910a9ffd784ab05391d"
          ]
        },
        "id": "1941fe9c",
        "outputId": "243d4a45-20cb-40e9-bb5a-9c0d6db0a3a3"
      },
      "outputs": [
        {
          "data": {
            "application/vnd.jupyter.widget-view+json": {
              "model_id": "2eba2358e1c64910a9ffd784ab05391d",
              "version_major": 2,
              "version_minor": 0
            },
            "text/plain": [
              "  0%|          | 0/100 [00:00<?, ?it/s]"
            ]
          },
          "metadata": {},
          "output_type": "display_data"
        },
        {
          "name": "stdout",
          "output_type": "stream",
          "text": [
            "CPU times: user 54.9 s, sys: 658 ms, total: 55.6 s\n",
            "Wall time: 16.7 s\n"
          ]
        }
      ],
      "source": [
        "%%time\n",
        "# Create study object\n",
        "study = optuna.create_study(direction=\"maximize\")\n",
        "\n",
        "# Run optimization process\n",
        "study.optimize(objective, n_trials=100, show_progress_bar=True, n_jobs=-1)"
      ]
    },
    {
      "cell_type": "code",
      "execution_count": null,
      "id": "91ff258d",
      "metadata": {
        "execution": {
          "iopub.execute_input": "2024-04-02T14:42:47.316501Z",
          "iopub.status.busy": "2024-04-02T14:42:47.316145Z",
          "iopub.status.idle": "2024-04-02T14:42:47.331952Z",
          "shell.execute_reply": "2024-04-02T14:42:47.331073Z"
        },
        "papermill": {
          "duration": 0.047479,
          "end_time": "2024-04-02T14:42:47.333871",
          "exception": false,
          "start_time": "2024-04-02T14:42:47.286392",
          "status": "completed"
        },
        "tags": [],
        "id": "91ff258d",
        "outputId": "ae4ae36c-9047-4161-a6ae-5bc77187bfe2"
      },
      "outputs": [
        {
          "data": {
            "text/html": [
              "<style>#sk-container-id-8 {color: black;background-color: white;}#sk-container-id-8 pre{padding: 0;}#sk-container-id-8 div.sk-toggleable {background-color: white;}#sk-container-id-8 label.sk-toggleable__label {cursor: pointer;display: block;width: 100%;margin-bottom: 0;padding: 0.3em;box-sizing: border-box;text-align: center;}#sk-container-id-8 label.sk-toggleable__label-arrow:before {content: \"▸\";float: left;margin-right: 0.25em;color: #696969;}#sk-container-id-8 label.sk-toggleable__label-arrow:hover:before {color: black;}#sk-container-id-8 div.sk-estimator:hover label.sk-toggleable__label-arrow:before {color: black;}#sk-container-id-8 div.sk-toggleable__content {max-height: 0;max-width: 0;overflow: hidden;text-align: left;background-color: #f0f8ff;}#sk-container-id-8 div.sk-toggleable__content pre {margin: 0.2em;color: black;border-radius: 0.25em;background-color: #f0f8ff;}#sk-container-id-8 input.sk-toggleable__control:checked~div.sk-toggleable__content {max-height: 200px;max-width: 100%;overflow: auto;}#sk-container-id-8 input.sk-toggleable__control:checked~label.sk-toggleable__label-arrow:before {content: \"▾\";}#sk-container-id-8 div.sk-estimator input.sk-toggleable__control:checked~label.sk-toggleable__label {background-color: #d4ebff;}#sk-container-id-8 div.sk-label input.sk-toggleable__control:checked~label.sk-toggleable__label {background-color: #d4ebff;}#sk-container-id-8 input.sk-hidden--visually {border: 0;clip: rect(1px 1px 1px 1px);clip: rect(1px, 1px, 1px, 1px);height: 1px;margin: -1px;overflow: hidden;padding: 0;position: absolute;width: 1px;}#sk-container-id-8 div.sk-estimator {font-family: monospace;background-color: #f0f8ff;border: 1px dotted black;border-radius: 0.25em;box-sizing: border-box;margin-bottom: 0.5em;}#sk-container-id-8 div.sk-estimator:hover {background-color: #d4ebff;}#sk-container-id-8 div.sk-parallel-item::after {content: \"\";width: 100%;border-bottom: 1px solid gray;flex-grow: 1;}#sk-container-id-8 div.sk-label:hover label.sk-toggleable__label {background-color: #d4ebff;}#sk-container-id-8 div.sk-serial::before {content: \"\";position: absolute;border-left: 1px solid gray;box-sizing: border-box;top: 0;bottom: 0;left: 50%;z-index: 0;}#sk-container-id-8 div.sk-serial {display: flex;flex-direction: column;align-items: center;background-color: white;padding-right: 0.2em;padding-left: 0.2em;position: relative;}#sk-container-id-8 div.sk-item {position: relative;z-index: 1;}#sk-container-id-8 div.sk-parallel {display: flex;align-items: stretch;justify-content: center;background-color: white;position: relative;}#sk-container-id-8 div.sk-item::before, #sk-container-id-8 div.sk-parallel-item::before {content: \"\";position: absolute;border-left: 1px solid gray;box-sizing: border-box;top: 0;bottom: 0;left: 50%;z-index: -1;}#sk-container-id-8 div.sk-parallel-item {display: flex;flex-direction: column;z-index: 1;position: relative;background-color: white;}#sk-container-id-8 div.sk-parallel-item:first-child::after {align-self: flex-end;width: 50%;}#sk-container-id-8 div.sk-parallel-item:last-child::after {align-self: flex-start;width: 50%;}#sk-container-id-8 div.sk-parallel-item:only-child::after {width: 0;}#sk-container-id-8 div.sk-dashed-wrapped {border: 1px dashed gray;margin: 0 0.4em 0.5em 0.4em;box-sizing: border-box;padding-bottom: 0.4em;background-color: white;}#sk-container-id-8 div.sk-label label {font-family: monospace;font-weight: bold;display: inline-block;line-height: 1.2em;}#sk-container-id-8 div.sk-label-container {text-align: center;}#sk-container-id-8 div.sk-container {/* jupyter's `normalize.less` sets `[hidden] { display: none; }` but bootstrap.min.css set `[hidden] { display: none !important; }` so we also need the `!important` here to be able to override the default hidden behavior on the sphinx rendered scikit-learn.org. See: https://github.com/scikit-learn/scikit-learn/issues/21755 */display: inline-block !important;position: relative;}#sk-container-id-8 div.sk-text-repr-fallback {display: none;}</style><div id=\"sk-container-id-8\" class=\"sk-top-container\"><div class=\"sk-text-repr-fallback\"><pre>KNeighborsClassifier(leaf_size=27, metric=&#x27;euclidean&#x27;, n_neighbors=19,\n",
              "                     weights=&#x27;distance&#x27;)</pre><b>In a Jupyter environment, please rerun this cell to show the HTML representation or trust the notebook. <br />On GitHub, the HTML representation is unable to render, please try loading this page with nbviewer.org.</b></div><div class=\"sk-container\" hidden><div class=\"sk-item\"><div class=\"sk-estimator sk-toggleable\"><input class=\"sk-toggleable__control sk-hidden--visually\" id=\"sk-estimator-id-16\" type=\"checkbox\" checked><label for=\"sk-estimator-id-16\" class=\"sk-toggleable__label sk-toggleable__label-arrow\">KNeighborsClassifier</label><div class=\"sk-toggleable__content\"><pre>KNeighborsClassifier(leaf_size=27, metric=&#x27;euclidean&#x27;, n_neighbors=19,\n",
              "                     weights=&#x27;distance&#x27;)</pre></div></div></div></div></div>"
            ],
            "text/plain": [
              "KNeighborsClassifier(leaf_size=27, metric='euclidean', n_neighbors=19,\n",
              "                     weights='distance')"
            ]
          },
          "execution_count": 59,
          "metadata": {},
          "output_type": "execute_result"
        }
      ],
      "source": [
        "knn_optuna = KNeighborsClassifier( **study.best_params)\n",
        "knn_optuna.random_state = 0\n",
        "knn_optuna.fit(X_train, y_train)"
      ]
    },
    {
      "cell_type": "code",
      "execution_count": null,
      "id": "350522c3",
      "metadata": {
        "execution": {
          "iopub.execute_input": "2024-04-02T14:42:47.393226Z",
          "iopub.status.busy": "2024-04-02T14:42:47.392686Z",
          "iopub.status.idle": "2024-04-02T14:42:47.460605Z",
          "shell.execute_reply": "2024-04-02T14:42:47.459653Z"
        },
        "papermill": {
          "duration": 0.099752,
          "end_time": "2024-04-02T14:42:47.462761",
          "exception": false,
          "start_time": "2024-04-02T14:42:47.363009",
          "status": "completed"
        },
        "tags": [],
        "id": "350522c3"
      },
      "outputs": [],
      "source": [
        "y_pred = knn_optuna.predict(X_test)"
      ]
    },
    {
      "cell_type": "code",
      "execution_count": null,
      "id": "3513ab98",
      "metadata": {
        "execution": {
          "iopub.execute_input": "2024-04-02T14:42:47.521008Z",
          "iopub.status.busy": "2024-04-02T14:42:47.520743Z",
          "iopub.status.idle": "2024-04-02T14:42:47.533205Z",
          "shell.execute_reply": "2024-04-02T14:42:47.532161Z"
        },
        "papermill": {
          "duration": 0.043322,
          "end_time": "2024-04-02T14:42:47.535199",
          "exception": false,
          "start_time": "2024-04-02T14:42:47.491877",
          "status": "completed"
        },
        "tags": [],
        "id": "3513ab98",
        "outputId": "24c7eac8-0cec-43f0-d8ec-b0016d5f9435"
      },
      "outputs": [
        {
          "name": "stdout",
          "output_type": "stream",
          "text": [
            "ROC AUC Score: 0.9597531351262695\n",
            "AUPRC Score: 0.9247123795424332\n",
            "F1 Score: 0.9504741833508957\n"
          ]
        }
      ],
      "source": [
        "roc_auc = roc_auc_score(y_test, y_pred)\n",
        "print(\"ROC AUC Score:\", roc_auc)\n",
        "\n",
        "auprc = average_precision_score(y_test, y_pred)\n",
        "print(\"AUPRC Score:\", auprc)\n",
        "\n",
        "f1 = f1_score(y_test, y_pred)\n",
        "print(\"F1 Score:\", f1)"
      ]
    },
    {
      "cell_type": "markdown",
      "id": "4d101d39",
      "metadata": {
        "papermill": {
          "duration": 0.028685,
          "end_time": "2024-04-02T14:42:47.594085",
          "exception": false,
          "start_time": "2024-04-02T14:42:47.565400",
          "status": "completed"
        },
        "tags": [],
        "id": "4d101d39"
      },
      "source": [
        "<a id = '7.0'></a>\n",
        "<h2 style = \"font-size:35px; font-family:Garamond ; font-weight : normal; background-color: #263D42; color :#FFFFFF   ; text-align: center; border-radius: 5px 5px; padding: 5px\"> 7. Results </h2>\n",
        "\n",
        "### ML Models Results Table :\n",
        "\n",
        "\n",
        "|No.|ML Algorithm|ROC AUC|AUPRC|f1 Score|CPU / Wall time (s)|\n",
        "|-|-|-|-|-|-|\n",
        "|1|Decision Tree Classifier GridSearchCV|93.15%|87.12%|91.41%|<div style=\"text-align: center;\">3.2 / 22.7</div>|\n",
        "|2|Decision Tree Classifier Optuna|93.20%|86.84%|91.35%|<div style=\"text-align: center;\">4.9 / 4.2</div>|\n",
        "|3|Random Forest Classifier GridSearchCV|96.30%|94.17%|95.83%|<div style=\"text-align: center;\">7.1 / 680</div>|\n",
        "|4|Random Forest Classifier Optuna|96.55%|94.38%|96.07%|<div style=\"text-align: center;\">8.9 / 474</div>|\n",
        "|5|Support Vector Classification GridSearchCV|96.95%|92.92%|95.77%|<div style=\"text-align: center;\">0.83 / 42.1</div>|\n",
        "|6|Support Vector Classification Optuna|96.02%|91.93%|94.88%|<div style=\"text-align: center;\">726 / 131</div>|\n",
        "|7|K-Nearest Neighbors GridSearchCV|95.97%|92.47%|95.05%|<div style=\"text-align: center;\">41.8 / 285</div>|\n",
        "|8|K-Nearest Neighbors Optuna|95.97%|92.47%|95.05%|<div style=\"text-align: center;\">36 / 9.4</div>|"
      ]
    },
    {
      "cell_type": "markdown",
      "id": "0fa9ffc8",
      "metadata": {
        "papermill": {
          "duration": 0.028481,
          "end_time": "2024-04-02T14:42:47.651309",
          "exception": false,
          "start_time": "2024-04-02T14:42:47.622828",
          "status": "completed"
        },
        "tags": [],
        "id": "0fa9ffc8"
      },
      "source": [
        "**Note**: The CPU/Wall time results displayed above were collected during the initial testing conducted by the user."
      ]
    },
    {
      "cell_type": "markdown",
      "id": "2be2f464",
      "metadata": {
        "papermill": {
          "duration": 0.027997,
          "end_time": "2024-04-02T14:42:47.707385",
          "exception": false,
          "start_time": "2024-04-02T14:42:47.679388",
          "status": "completed"
        },
        "tags": [],
        "id": "2be2f464"
      },
      "source": [
        "<a id = '8.0'></a>\n",
        "<h2 style = \"font-size:35px; font-family:Garamond ; font-weight : normal; background-color: #263D42; color :#FFFFFF   ; text-align: center; border-radius: 5px 5px; padding: 5px\"> 8. Conclusions </h2>"
      ]
    },
    {
      "cell_type": "markdown",
      "id": "62ea811a",
      "metadata": {
        "papermill": {
          "duration": 0.027861,
          "end_time": "2024-04-02T14:42:47.763185",
          "exception": false,
          "start_time": "2024-04-02T14:42:47.735324",
          "status": "completed"
        },
        "tags": [],
        "id": "62ea811a"
      },
      "source": [
        "\n",
        "### Decision Tree Classifier :\n",
        "- DTC models perform **slightly less** compared to other models but still show respectable performance.\n",
        "\n",
        "### Random Forest Classifier :\n",
        "- Both **GridSearchCV** and **Optuna** generally **outperform other models** in terms of all performance metrics.\n",
        "- RFC have **moderate** computational requirements but provide **superior performance**.\n",
        "\n",
        "### Support Vector Classification (SVC) :\n",
        "- Also **performs well**, especially with **GridSearchCV**, having competitive scores across all metrics.\n",
        "- SVC with **Optuna** hyperparameter tuning has a considerably **higher CPU time** compared to other models, indicating potential computational inefficiencies with this configuration.\n",
        "\n",
        "  \n",
        "### K-Nearest Neighbors (KNN) :\n",
        "- KNN models **perform well** but are slightly behind Random Forest and SVC models.\n",
        "- The choice between KNN models tuned with **GridSearchCV** and **Optuna** doesn't significantly affect performance, but **Optuna provides lower CPU/Wall time** for KNN, suggesting it as a preferable choice due to its efficiency.\n",
        "\n",
        "---\n",
        "<br>\n",
        "\n",
        "- **Optuna** tends to perform **better in terms of computational efficiency**, as indicated by the **lower CPU/Wall time** compared to **GridSearchCV** in most cases.\n",
        "- However, in the case of Support Vector Classification (SVC), **GridSearchCV** achieves **better performance metrics** with much lower computational time compared to **Optuna**. This occurrence warrants further investigation for a more comprehensive understanding.\n",
        "- Expanding the analysis to datasets featuring **continuous target variables** is recommended to deepen insights into hyperparameter tuning methods. Utilizing regression models for training purposes offers a nuanced exploration of performance disparities between **Optuna** and **GridSearchCV** methodologies.\n",
        "<br><br>"
      ]
    }
  ],
  "metadata": {
    "kaggle": {
      "accelerator": "gpu",
      "dataSources": [
        {
          "datasetId": 310,
          "sourceId": 23498,
          "sourceType": "datasetVersion"
        }
      ],
      "dockerImageVersionId": 30674,
      "isGpuEnabled": true,
      "isInternetEnabled": true,
      "language": "python",
      "sourceType": "notebook"
    },
    "kernelspec": {
      "display_name": "Python 3",
      "language": "python",
      "name": "python3"
    },
    "language_info": {
      "codemirror_mode": {
        "name": "ipython",
        "version": 3
      },
      "file_extension": ".py",
      "mimetype": "text/x-python",
      "name": "python",
      "nbconvert_exporter": "python",
      "pygments_lexer": "ipython3",
      "version": "3.10.13"
    },
    "papermill": {
      "default_parameters": {},
      "duration": 2404.185702,
      "end_time": "2024-04-02T14:42:50.533820",
      "environment_variables": {},
      "exception": null,
      "input_path": "__notebook__.ipynb",
      "output_path": "__notebook__.ipynb",
      "parameters": {},
      "start_time": "2024-04-02T14:02:46.348118",
      "version": "2.5.0"
    },
    "widgets": {
      "application/vnd.jupyter.widget-state+json": {}
    },
    "colab": {
      "provenance": []
    }
  },
  "nbformat": 4,
  "nbformat_minor": 5
}